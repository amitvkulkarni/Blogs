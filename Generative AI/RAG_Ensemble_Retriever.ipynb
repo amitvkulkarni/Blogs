{
  "nbformat": 4,
  "nbformat_minor": 0,
  "metadata": {
    "colab": {
      "provenance": []
    },
    "kernelspec": {
      "name": "python3",
      "display_name": "Python 3"
    },
    "language_info": {
      "name": "python"
    }
  },
  "cells": [
    {
      "cell_type": "markdown",
      "source": [
        "# **Optimizing RAG System Performance with Ensemble Retriever**\n",
        "\n",
        "BLOG:\n",
        "https://amitvkulkarni.medium.com/optimizing-rag-system-performance-with-ensemble-retriever-0e39e91bed7b"
      ],
      "metadata": {
        "id": "mbvadjxzQRAL"
      }
    },
    {
      "cell_type": "markdown",
      "source": [
        "The performance of Retrieval-Augmented Generation (RAG) systems is crucial in the evolving AI landscape. These systems blend retrieval and generation capabilities, requiring accuracy and efficiency in handling diverse queries. The challenge lies in finding a balance between retrieving precise information and understanding complex questions, requiring advanced retrieval methods to push AI’s boundaries.\n",
        "\n",
        "EnsembleRetriever is an innovative method to improve RAG system performance by combining the strengths of various retrieval algorithms. It integrates results from different retrievers and reranks them using the Reciprocal Rank Fusion algorithm, prioritizing the most relevant documents. This approach leverages the strengths of both sparse and dense retrievers, making the system more robust and effective."
      ],
      "metadata": {
        "id": "Uaxhhfivmoa7"
      }
    },
    {
      "cell_type": "code",
      "source": [
        "# ! pip -q install tiktoken pypdf sentence-transformers InstructorEmbedding langchain_community huggingface_hub langchain-huggingface chromadb rank_bm25"
      ],
      "metadata": {
        "id": "8kf8eLOoFCF8"
      },
      "execution_count": 63,
      "outputs": []
    },
    {
      "cell_type": "markdown",
      "source": [
        "# **Import the neccessary libraries**"
      ],
      "metadata": {
        "id": "vS8AN8aWQXdg"
      }
    },
    {
      "cell_type": "code",
      "source": [
        "import pandas as pd\n",
        "import os\n",
        "from langchain_huggingface import HuggingFaceEndpoint\n",
        "from langchain.text_splitter import RecursiveCharacterTextSplitter\n",
        "from langchain.chains import RetrievalQA\n",
        "from langchain.document_loaders import PyPDFLoader\n",
        "from langchain.document_loaders import DirectoryLoader, TextLoader\n",
        "from InstructorEmbedding import INSTRUCTOR\n",
        "from langchain.embeddings import HuggingFaceInstructEmbeddings\n",
        "from langchain.prompts import ChatPromptTemplate, PromptTemplate\n",
        "from langchain_core.output_parsers import StrOutputParser\n",
        "from langchain_core.runnables import RunnablePassthrough"
      ],
      "metadata": {
        "id": "YU-YN6qLmHYv",
        "colab": {
          "base_uri": "https://localhost:8080/"
        },
        "outputId": "6b917323-3c48-4354-ac99-043375b4f0b6"
      },
      "execution_count": 2,
      "outputs": [
        {
          "output_type": "stream",
          "name": "stderr",
          "text": [
            "/usr/local/lib/python3.10/dist-packages/InstructorEmbedding/instructor.py:7: TqdmExperimentalWarning: Using `tqdm.autonotebook.tqdm` in notebook mode. Use `tqdm.tqdm` instead to force console mode (e.g. in jupyter console)\n",
            "  from tqdm.autonotebook import trange\n"
          ]
        }
      ]
    },
    {
      "cell_type": "code",
      "source": [
        "from google.colab import userdata\n",
        "\n",
        "userdata.get(\"HF_API_KEY\")\n",
        "userdata.get(\"HF_TOKEN\")\n",
        "\n",
        "print(\"API's loaded\")"
      ],
      "metadata": {
        "colab": {
          "base_uri": "https://localhost:8080/"
        },
        "id": "GGa9yzFvmHak",
        "outputId": "df01c347-64b7-45f5-8ad2-67f40d66c7d5"
      },
      "execution_count": 3,
      "outputs": [
        {
          "output_type": "stream",
          "name": "stdout",
          "text": [
            "API's loaded\n"
          ]
        }
      ]
    },
    {
      "cell_type": "markdown",
      "source": [
        "# **Loading the data**"
      ],
      "metadata": {
        "id": "487h89UIQdM5"
      }
    },
    {
      "cell_type": "code",
      "source": [
        "loader = DirectoryLoader(f\"/content/data\", glob=\"*.txt\", loader_cls=TextLoader)\n",
        "documents = loader.load()\n",
        "documents"
      ],
      "metadata": {
        "colab": {
          "base_uri": "https://localhost:8080/"
        },
        "id": "C1XPs_XFmAPE",
        "outputId": "cfa461f9-de38-49ac-d6fd-4ec59fbb4a02"
      },
      "execution_count": 4,
      "outputs": [
        {
          "output_type": "execute_result",
          "data": {
            "text/plain": [
              "[Document(metadata={'source': '/content/data/Politics.txt'}, page_content='The G7 is a club of Western nations (with Japan given that status as an ally of the West and a major economy) that have dominated the world and its institutions, in some cases for centuries, and retain the ambition to maintain that position by policy coordination amongst themselves and by co-opting rising powers, including India, given the shifts in global power in recent decades.\\n\\nThe G7 recognised that they could not manage the 2008 financial crisis on their own and needed a wider international partnership, but one under their aegis. With this in mind, the G20 forum hitherto at the finance minister level was raised to the summit level. The G20 agenda is, however, shifting increasingly towards the interests and priorities of the developing countries (now being referred to as the Global South). During India’s G20 presidency, with India holding the Voice of the Global South summits before presiding over the G20 and at the conclusion of its work, and with the inclusion of the African Union as a G20 permanent member at India’s initiative, the pro-Global South content of the G20 agenda has got consolidated.\\n\\nBoth the G7 and the G20, however, face challenges from other platforms for consensus-building on global issues. BRICS, a group of non-Western countries, is getting expanded to resist the hegemony of the West that is still expressing itself in the form of sanctions, the weaponising of finance, regime change policies and double standards in addressing issues of democracy and human rights etc. An expanded BRICS will rival both the G7 and the G20 as a platform for promoting multipolarity, a greater role of developing countries in global governance, more equity in international relations, and introducing much-needed reforms in the international system.')]"
            ]
          },
          "metadata": {},
          "execution_count": 4
        }
      ]
    },
    {
      "cell_type": "markdown",
      "source": [
        "# **Splitting the document using RecursiveCharacterTextSplitter**"
      ],
      "metadata": {
        "id": "scZBC25PQfgY"
      }
    },
    {
      "cell_type": "code",
      "source": [
        "text_splitter = RecursiveCharacterTextSplitter(chunk_size=100, chunk_overlap=10)\n",
        "texts = text_splitter.split_documents(documents)\n",
        "texts"
      ],
      "metadata": {
        "colab": {
          "base_uri": "https://localhost:8080/"
        },
        "id": "PxyFHziSpiOu",
        "outputId": "8b843232-a237-4c99-a322-a8141826de03"
      },
      "execution_count": 5,
      "outputs": [
        {
          "output_type": "execute_result",
          "data": {
            "text/plain": [
              "[Document(metadata={'source': '/content/data/Politics.txt'}, page_content='The G7 is a club of Western nations (with Japan given that status as an ally of the West and a major'),\n",
              " Document(metadata={'source': '/content/data/Politics.txt'}, page_content='a major economy) that have dominated the world and its institutions, in some cases for centuries,'),\n",
              " Document(metadata={'source': '/content/data/Politics.txt'}, page_content='and retain the ambition to maintain that position by policy coordination amongst themselves and by'),\n",
              " Document(metadata={'source': '/content/data/Politics.txt'}, page_content='and by co-opting rising powers, including India, given the shifts in global power in recent'),\n",
              " Document(metadata={'source': '/content/data/Politics.txt'}, page_content='in recent decades.'),\n",
              " Document(metadata={'source': '/content/data/Politics.txt'}, page_content='The G7 recognised that they could not manage the 2008 financial crisis on their own and needed a'),\n",
              " Document(metadata={'source': '/content/data/Politics.txt'}, page_content='needed a wider international partnership, but one under their aegis. With this in mind, the G20'),\n",
              " Document(metadata={'source': '/content/data/Politics.txt'}, page_content='the G20 forum hitherto at the finance minister level was raised to the summit level. The G20 agenda'),\n",
              " Document(metadata={'source': '/content/data/Politics.txt'}, page_content='agenda is, however, shifting increasingly towards the interests and priorities of the developing'),\n",
              " Document(metadata={'source': '/content/data/Politics.txt'}, page_content='countries (now being referred to as the Global South). During India’s G20 presidency, with India'),\n",
              " Document(metadata={'source': '/content/data/Politics.txt'}, page_content='India holding the Voice of the Global South summits before presiding over the G20 and at the'),\n",
              " Document(metadata={'source': '/content/data/Politics.txt'}, page_content='at the conclusion of its work, and with the inclusion of the African Union as a G20 permanent'),\n",
              " Document(metadata={'source': '/content/data/Politics.txt'}, page_content='permanent member at India’s initiative, the pro-Global South content of the G20 agenda has got'),\n",
              " Document(metadata={'source': '/content/data/Politics.txt'}, page_content='has got consolidated.'),\n",
              " Document(metadata={'source': '/content/data/Politics.txt'}, page_content='Both the G7 and the G20, however, face challenges from other platforms for consensus-building on'),\n",
              " Document(metadata={'source': '/content/data/Politics.txt'}, page_content='on global issues. BRICS, a group of non-Western countries, is getting expanded to resist the'),\n",
              " Document(metadata={'source': '/content/data/Politics.txt'}, page_content='the hegemony of the West that is still expressing itself in the form of sanctions, the weaponising'),\n",
              " Document(metadata={'source': '/content/data/Politics.txt'}, page_content='of finance, regime change policies and double standards in addressing issues of democracy and human'),\n",
              " Document(metadata={'source': '/content/data/Politics.txt'}, page_content='and human rights etc. An expanded BRICS will rival both the G7 and the G20 as a platform for'),\n",
              " Document(metadata={'source': '/content/data/Politics.txt'}, page_content='for promoting multipolarity, a greater role of developing countries in global governance, more'),\n",
              " Document(metadata={'source': '/content/data/Politics.txt'}, page_content='more equity in international relations, and introducing much-needed reforms in the international'),\n",
              " Document(metadata={'source': '/content/data/Politics.txt'}, page_content='system.')]"
            ]
          },
          "metadata": {},
          "execution_count": 5
        }
      ]
    },
    {
      "cell_type": "code",
      "source": [
        "# ! pip install sentence-transformers==2.2.2"
      ],
      "metadata": {
        "id": "lc6D9IGGpyZl"
      },
      "execution_count": 68,
      "outputs": []
    },
    {
      "cell_type": "code",
      "source": [
        "from langchain.embeddings import HuggingFaceInstructEmbeddings\n",
        "instructor_embeddings = HuggingFaceInstructEmbeddings(model_name=\"hkunlp/instructor-xl\")"
      ],
      "metadata": {
        "colab": {
          "base_uri": "https://localhost:8080/"
        },
        "id": "tG8a_j_kpiQ9",
        "outputId": "02abd793-4b74-4751-fdde-6ceda3a32a03"
      },
      "execution_count": 6,
      "outputs": [
        {
          "output_type": "stream",
          "name": "stdout",
          "text": [
            "load INSTRUCTOR_Transformer\n",
            "max_seq_length  512\n"
          ]
        }
      ]
    },
    {
      "cell_type": "markdown",
      "source": [
        "# **Using Chroma as Vector DB**\n",
        "\n",
        "We’ll utilize Chroma for storing and retrieving documents. Our plan includes creating a retriever object that fetches the top 5 relevant chunks based on the question.\n",
        "\n",
        "First, we will use a standard way of retrieving information i.,e using the semantic search feature and fetching 5 more relevant document chunks."
      ],
      "metadata": {
        "id": "f_mphg8GQnHZ"
      }
    },
    {
      "cell_type": "code",
      "source": [
        "from langchain.vectorstores import Chroma\n",
        "from langchain.retrievers import BM25Retriever, EnsembleRetriever\n",
        "\n",
        "vectorstore = Chroma.from_documents(texts, instructor_embeddings)\n",
        "vectorstore_retreiver = vectorstore.as_retriever(search_kwargs={\"k\": 5})"
      ],
      "metadata": {
        "id": "dWaBm_sfpiTF"
      },
      "execution_count": 7,
      "outputs": []
    },
    {
      "cell_type": "markdown",
      "source": [
        "Now we will set up the second retriever using sparse retrievers, like BM25, that are precise for simple queries, while dense retrievers, based on semantic similarity, understand and retrieve documents based on context and deeper meaning, making them ideal for complex information needs, as they capture the deeper meaning behind queries."
      ],
      "metadata": {
        "id": "JZYW4CVdnakS"
      }
    },
    {
      "cell_type": "code",
      "source": [
        "keyword_retriever = BM25Retriever.from_documents(texts)\n",
        "keyword_retriever.k =  5"
      ],
      "metadata": {
        "id": "fJoLwgy4nckq"
      },
      "execution_count": null,
      "outputs": []
    },
    {
      "cell_type": "markdown",
      "source": [
        "# **Ensemble Retriever**"
      ],
      "metadata": {
        "id": "Vq6wJPRWfwKz"
      }
    },
    {
      "cell_type": "code",
      "source": [
        "ensemble_retriever = EnsembleRetriever(retrievers=[vectorstore_retreiver,\n",
        "                                                   keyword_retriever],\n",
        "                                       weights=[0.5, 0.5])"
      ],
      "metadata": {
        "id": "qLwAWUOkfuHG"
      },
      "execution_count": 8,
      "outputs": []
    },
    {
      "cell_type": "code",
      "source": [
        "def get_rag_response(retriever_choice, question):\n",
        "    repo_id = \"mistralai/Mistral-7B-Instruct-v0.2\"\n",
        "    llm = HuggingFaceEndpoint(repo_id=repo_id, max_length=128, temperature=0.7, token='HF_TOKEN')\n",
        "\n",
        "    template = \"\"\"Answer the question based ONLY on the following context:\n",
        "    {context}\n",
        "    Question: {question}\n",
        "    \"\"\"\n",
        "\n",
        "    # Create a prompt from the template\n",
        "    prompt = ChatPromptTemplate.from_template(template)\n",
        "\n",
        "    chain = (\n",
        "        {\"context\": retriever_choice, \"question\": RunnablePassthrough()}\n",
        "        | prompt\n",
        "        | llm\n",
        "        | StrOutputParser()\n",
        "    )\n",
        "\n",
        "    response = chain.invoke(question)\n",
        "    return response"
      ],
      "metadata": {
        "id": "P3-dPyk6v7vZ"
      },
      "execution_count": 9,
      "outputs": []
    },
    {
      "cell_type": "code",
      "source": [
        "question = \"Why are all the countries meeting and what is it about?\""
      ],
      "metadata": {
        "id": "LTXmiEoQhyUo"
      },
      "execution_count": 10,
      "outputs": []
    },
    {
      "cell_type": "markdown",
      "source": [
        "# **Building a basic retrieval**"
      ],
      "metadata": {
        "id": "YPHJ609gQs2y"
      }
    },
    {
      "cell_type": "code",
      "source": [
        "doc_basic = vectorstore_retreiver.get_relevant_documents(question)\n",
        "doc_basic"
      ],
      "metadata": {
        "colab": {
          "base_uri": "https://localhost:8080/"
        },
        "id": "2kLlgbHrgssy",
        "outputId": "730c9b74-b5a2-4856-cb55-b64d1d65b6d2"
      },
      "execution_count": 11,
      "outputs": [
        {
          "output_type": "stream",
          "name": "stderr",
          "text": [
            "/usr/local/lib/python3.10/dist-packages/langchain_core/_api/deprecation.py:139: LangChainDeprecationWarning: The method `BaseRetriever.get_relevant_documents` was deprecated in langchain-core 0.1.46 and will be removed in 0.3.0. Use invoke instead.\n",
            "  warn_deprecated(\n"
          ]
        },
        {
          "output_type": "execute_result",
          "data": {
            "text/plain": [
              "[Document(metadata={'source': '/content/data/Politics.txt'}, page_content='for promoting multipolarity, a greater role of developing countries in global governance, more'),\n",
              " Document(metadata={'source': '/content/data/Politics.txt'}, page_content='India holding the Voice of the Global South summits before presiding over the G20 and at the'),\n",
              " Document(metadata={'source': '/content/data/Politics.txt'}, page_content='countries (now being referred to as the Global South). During India’s G20 presidency, with India'),\n",
              " Document(metadata={'source': '/content/data/Politics.txt'}, page_content='permanent member at India’s initiative, the pro-Global South content of the G20 agenda has got'),\n",
              " Document(metadata={'source': '/content/data/Politics.txt'}, page_content='needed a wider international partnership, but one under their aegis. With this in mind, the G20')]"
            ]
          },
          "metadata": {},
          "execution_count": 11
        }
      ]
    },
    {
      "cell_type": "code",
      "source": [
        "response = get_rag_response(vectorstore_retreiver, question)\n",
        "print(response)"
      ],
      "metadata": {
        "colab": {
          "base_uri": "https://localhost:8080/"
        },
        "id": "NA6Eu09_w4EH",
        "outputId": "ad5ae432-2bf9-46bb-de98-16634cc9f306"
      },
      "execution_count": 12,
      "outputs": [
        {
          "output_type": "stream",
          "name": "stderr",
          "text": [
            "WARNING:langchain_huggingface.llms.huggingface_endpoint:WARNING! max_length is not default parameter.\n",
            "                    max_length was transferred to model_kwargs.\n",
            "                    Please make sure that max_length is what you intended.\n",
            "WARNING:langchain_huggingface.llms.huggingface_endpoint:WARNING! token is not default parameter.\n",
            "                    token was transferred to model_kwargs.\n",
            "                    Please make sure that token is what you intended.\n"
          ]
        },
        {
          "output_type": "stream",
          "name": "stdout",
          "text": [
            "\n",
            "Answer: The countries mentioned in the context are referred to as the Global South. They are meeting to promote multipolarity, which means a balance of power among multiple entities. They aim for a greater role of developing countries in global governance. India, one of these countries, has been hosting the Voice of the Global South summits before presiding over the G20. During India's G20 presidency, the pro-Global South content of the G20 agenda has gained significance. These countries are seeking a wider international partnership, but under their leadership. Therefore, the meetings are about strengthening the collective voice and influence of the Global South in global governance.\n"
          ]
        }
      ]
    },
    {
      "cell_type": "markdown",
      "source": [
        "The response from the model looks good. The system has understood the context and generated relevant content. Let’s check if we can better this response with a hybrid search in the next section."
      ],
      "metadata": {
        "id": "TQAbzkDBnPXz"
      }
    },
    {
      "cell_type": "markdown",
      "source": [
        "# **Building with Ensemble Retriever**"
      ],
      "metadata": {
        "id": "ibWe0lLaYov6"
      }
    },
    {
      "cell_type": "code",
      "source": [
        "doc_ensemble = ensemble_retriever.get_relevant_documents(question)\n",
        "doc_ensemble"
      ],
      "metadata": {
        "colab": {
          "base_uri": "https://localhost:8080/"
        },
        "id": "JoD0fbcQpiW-",
        "outputId": "3a30fc69-6e4d-4a84-b220-3bea64c00b1b"
      },
      "execution_count": 13,
      "outputs": [
        {
          "output_type": "execute_result",
          "data": {
            "text/plain": [
              "[Document(metadata={'source': '/content/data/Politics.txt'}, page_content='countries (now being referred to as the Global South). During India’s G20 presidency, with India'),\n",
              " Document(metadata={'source': '/content/data/Politics.txt'}, page_content='for promoting multipolarity, a greater role of developing countries in global governance, more'),\n",
              " Document(metadata={'source': '/content/data/Politics.txt'}, page_content='India holding the Voice of the Global South summits before presiding over the G20 and at the'),\n",
              " Document(metadata={'source': '/content/data/Politics.txt'}, page_content='the hegemony of the West that is still expressing itself in the form of sanctions, the weaponising'),\n",
              " Document(metadata={'source': '/content/data/Politics.txt'}, page_content='The G7 is a club of Western nations (with Japan given that status as an ally of the West and a major'),\n",
              " Document(metadata={'source': '/content/data/Politics.txt'}, page_content='permanent member at India’s initiative, the pro-Global South content of the G20 agenda has got'),\n",
              " Document(metadata={'source': '/content/data/Politics.txt'}, page_content='on global issues. BRICS, a group of non-Western countries, is getting expanded to resist the'),\n",
              " Document(metadata={'source': '/content/data/Politics.txt'}, page_content='needed a wider international partnership, but one under their aegis. With this in mind, the G20')]"
            ]
          },
          "metadata": {},
          "execution_count": 13
        }
      ]
    },
    {
      "cell_type": "code",
      "source": [
        "# Example usage:\n",
        "response = get_rag_response(ensemble_retriever, question)\n",
        "print(response)"
      ],
      "metadata": {
        "colab": {
          "base_uri": "https://localhost:8080/"
        },
        "id": "Qy4hJTu0wQbZ",
        "outputId": "f2fd4690-b5d5-470c-ebe7-73ca80093712"
      },
      "execution_count": 14,
      "outputs": [
        {
          "output_type": "stream",
          "name": "stderr",
          "text": [
            "WARNING:langchain_huggingface.llms.huggingface_endpoint:WARNING! max_length is not default parameter.\n",
            "                    max_length was transferred to model_kwargs.\n",
            "                    Please make sure that max_length is what you intended.\n",
            "WARNING:langchain_huggingface.llms.huggingface_endpoint:WARNING! token is not default parameter.\n",
            "                    token was transferred to model_kwargs.\n",
            "                    Please make sure that token is what you intended.\n"
          ]
        },
        {
          "output_type": "stream",
          "name": "stdout",
          "text": [
            "\n",
            "Answer: The countries, now referred to as the Global South, are meeting under the framework of the G20 during India's presidency. The primary focus of the meetings is to promote multipolarity, a greater role of developing countries in global governance, and to resist the hegemony of the West. India has been organizing Voice of the Global South summits before presiding over the G20. The G20 agenda has been influenced by pro-Global South content on global issues. Additionally, BRICS, a group of non-Western countries, is expanding to further this cause. The G7, a club of Western nations, is also involved, with Japan as a permanent member at India's initiative.\n"
          ]
        }
      ]
    },
    {
      "cell_type": "markdown",
      "source": [
        "The ensemble approach generates a response with the right context and captures additional points that the basic version missed, such as BRICS and G7. Although the document’s content is not extensive, there are differences in responses from both approaches. In real-world projects, it is important to carry out these experiments to determine the most suitable approach for implementation."
      ],
      "metadata": {
        "id": "PpYFuMW_mzp1"
      }
    },
    {
      "cell_type": "markdown",
      "source": [
        "# **Conclusion**\n",
        "The EnsembleRetriever enhances RAG system performance by combining the precision of sparse retrievers with the contextual understanding of dense retrievers ensuring a balanced and robust retrieval process. This hybrid approach improves both the accuracy and relevance of generated responses and as AI evolves, utilizing such techniques will be crucial for advancing information retrieval and generation. Embrace the EnsembleRetriever to make your RAG systems smarter and more efficient in handling complex queries."
      ],
      "metadata": {
        "id": "AH8mNUbIxhC4"
      }
    }
  ]
}