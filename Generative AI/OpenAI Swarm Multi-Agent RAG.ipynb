{
 "cells": [
  {
   "cell_type": "markdown",
   "metadata": {
    "id": "vO0tHh_02Q5l"
   },
   "source": [
    "# Are You Ready for the Future of AI? OpenAI's Swarm Could Change Everything\n",
    "#### Learn how to configure and personalize OpenAI's Swarm framework to create powerful, collaborative multi-agent systems that meet your unique needs and drive smarter automation"
   ]
  },
  {
   "cell_type": "markdown",
   "metadata": {},
   "source": [
    "Imagine a world where complex problems are solved not by a single AI, but by a team of intelligent agents working together seamlessly. OpenAI's Swarm makes this vision a reality. It's a groundbreaking framework that leverages the power of LLMs to create a collaborative system of specialized agents, each with a unique role.\n",
    "\n",
    "Whether you're automating a time-consuming workflow, tackling a multifaceted research project, or providing exceptional customer support, Swarm enables you to deploy multiple agents, each focused on a specific task. These agents communicate effortlessly, working in perfect harmony to deliver faster, smarter, and more reliable results, much like a well-coordinated orchestra.\n",
    "\n",
    "At its core, OpenAI's Swarm empowers you to build systems where agents act like experts in a team. They share knowledge, solve intricate problems, and adapt to challenges, all while ensuring accuracy and efficiency. The result? A multi-agent setup that revolutionizes how we approach automation, innovation, and collaboration.\n",
    "In this blog, we'll take you through the foundational ideas behind OpenAI's Swarm, and implement a multi-agent system as shown below. In short, depending on the query the central agent decides which agent is best suited to handle the query."
   ]
  },
  {
   "cell_type": "code",
   "execution_count": null,
   "metadata": {
    "id": "E_McYkHkRN_4"
   },
   "outputs": [],
   "source": [
    "!pip install git+https://github.com/openai/swarm.git\n"
   ]
  },
  {
   "cell_type": "code",
   "execution_count": null,
   "metadata": {
    "id": "h4-QpgcKQXy0"
   },
   "outputs": [],
   "source": [
    "import os\n",
    "from google.colab import userdata\n",
    "\n",
    "os.environ[\"OPENAI_API_KEY\"] = userdata.get('OPENAI_API_KEY')"
   ]
  },
  {
   "cell_type": "code",
   "execution_count": null,
   "metadata": {
    "id": "1YESrSji2cIq"
   },
   "outputs": [],
   "source": [
    "# !pip install -q langchain langchain-chroma langchain-openai langchain-community pypdf sentence-transformers"
   ]
  },
  {
   "cell_type": "code",
   "execution_count": null,
   "metadata": {
    "colab": {
     "base_uri": "https://localhost:8080/"
    },
    "id": "98UM1C0h7lRi",
    "outputId": "da31503b-4c72-4fab-b317-4ce9d633c53c"
   },
   "outputs": [
    {
     "name": "stderr",
     "output_type": "stream",
     "text": [
      "100%|██████████| 2/2 [00:08<00:00,  4.11s/it]"
     ]
    },
    {
     "name": "stdout",
     "output_type": "stream",
     "text": [
      "Loaded 2 documents from the folder.\n"
     ]
    },
    {
     "name": "stderr",
     "output_type": "stream",
     "text": [
      "\n"
     ]
    }
   ],
   "source": [
    "from langchain_community.document_loaders import DirectoryLoader\n",
    "\n",
    "loader = DirectoryLoader(\"/content/Data\", show_progress=True)\n",
    "docs = loader.load()\n",
    "print(f\"Loaded {len(docs)} documents from the folder.\")"
   ]
  },
  {
   "cell_type": "code",
   "execution_count": null,
   "metadata": {
    "colab": {
     "base_uri": "https://localhost:8080/"
    },
    "id": "gv0KVIWd8kV6",
    "outputId": "25e9b152-900d-4e36-b897-07e39ff953dd"
   },
   "outputs": [
    {
     "name": "stdout",
     "output_type": "stream",
     "text": [
      "Split the documents into 19 chunks.\n"
     ]
    }
   ],
   "source": [
    "from langchain_text_splitters import RecursiveCharacterTextSplitter\n",
    "# Split documents into chunks\n",
    "text_splitter = RecursiveCharacterTextSplitter(chunk_size=1000, chunk_overlap=200)\n",
    "splits = text_splitter.split_documents(docs)\n",
    "print(f\"Split the documents into {len(splits)} chunks.\")"
   ]
  },
  {
   "cell_type": "code",
   "execution_count": null,
   "metadata": {
    "colab": {
     "base_uri": "https://localhost:8080/"
    },
    "id": "qM-28zef2cO5",
    "outputId": "47a1ebd5-df5c-4d91-a4af-c8d06b22d470"
   },
   "outputs": [
    {
     "name": "stderr",
     "output_type": "stream",
     "text": [
      "<ipython-input-8-2fa1ec9e0188>:4: LangChainDeprecationWarning: The class `HuggingFaceEmbeddings` was deprecated in LangChain 0.2.2 and will be removed in 1.0. An updated version of the class exists in the :class:`~langchain-huggingface package and should be used instead. To use it run `pip install -U :class:`~langchain-huggingface` and import as `from :class:`~langchain_huggingface import HuggingFaceEmbeddings``.\n",
      "  embedding_function = SentenceTransformerEmbeddings(model_name=\"all-MiniLM-L6-v2\")\n",
      "/usr/local/lib/python3.10/dist-packages/sentence_transformers/cross_encoder/CrossEncoder.py:13: TqdmExperimentalWarning: Using `tqdm.autonotebook.tqdm` in notebook mode. Use `tqdm.tqdm` instead to force console mode (e.g. in jupyter console)\n",
      "  from tqdm.autonotebook import tqdm, trange\n"
     ]
    },
    {
     "name": "stdout",
     "output_type": "stream",
     "text": [
      "Vector store created and persisted to './chroma_db'\n"
     ]
    }
   ],
   "source": [
    "from langchain_community.embeddings.sentence_transformer import SentenceTransformerEmbeddings\n",
    "from langchain_chroma import Chroma\n",
    "\n",
    "embedding_function = SentenceTransformerEmbeddings(model_name=\"all-MiniLM-L6-v2\")\n",
    "collection_name = \"my_collection\"\n",
    "\n",
    "vectorstore = Chroma.from_documents(\n",
    "    collection_name=collection_name,\n",
    "    documents=splits,\n",
    "    embedding=embedding_function,\n",
    "    persist_directory=\"./chroma_db\"\n",
    ")\n",
    "print(\"Vector store created and persisted to './chroma_db'\")\n"
   ]
  },
  {
   "cell_type": "markdown",
   "metadata": {},
   "source": [
    "We will generate the embedding using all-MiniLM-L6-v2 model using SentenceTransformerEmbeddings method and save the embeddings in the vector database, i.e., Chroma"
   ]
  },
  {
   "cell_type": "code",
   "execution_count": null,
   "metadata": {
    "colab": {
     "base_uri": "https://localhost:8080/"
    },
    "id": "yEnaL1fW2cS0",
    "outputId": "46a20fb0-3a39-48a3-e940-45530059ac88"
   },
   "outputs": [
    {
     "name": "stdout",
     "output_type": "stream",
     "text": [
      "Vector store created and persisted to './chroma_db'\n"
     ]
    }
   ],
   "source": [
    "from langchain_community.embeddings.sentence_transformer import SentenceTransformerEmbeddings\n",
    "from langchain_chroma import Chroma\n",
    "\n",
    "embedding_function = SentenceTransformerEmbeddings(model_name=\"all-MiniLM-L6-v2\")\n",
    "collection_name = \"my_collection\"\n",
    "\n",
    "vectorstore = Chroma.from_documents(\n",
    "    collection_name=collection_name,\n",
    "    documents=splits,\n",
    "    embedding=embedding_function,\n",
    "    persist_directory=\"./chroma_db\"\n",
    ")\n",
    "retriever = vectorstore.as_retriever()\n",
    "print(\"Vector store created and persisted to './chroma_db'\")\n"
   ]
  },
  {
   "cell_type": "code",
   "execution_count": null,
   "metadata": {
    "id": "gn2ARyZhJ_G0"
   },
   "outputs": [],
   "source": [
    "from langchain_core.prompts import ChatPromptTemplate\n",
    "from langchain.schema.runnable import RunnablePassthrough\n",
    "from langchain_core.output_parsers import StrOutputParser\n",
    "from langchain_openai import ChatOpenAI\n",
    "\n",
    "llm = ChatOpenAI(model=\"gpt-4o-mini\")\n",
    "\n",
    "def retrieve_and_generate_politics(question):\n",
    "    print(\"Calling retrieve_and_generate_politics\")\n",
    "    template = \"\"\"Answer the question based only on the following context:\n",
    "    {context}\n",
    "    Question: {question}\n",
    "    Answer: \"\"\"\n",
    "\n",
    "    prompt = ChatPromptTemplate.from_template(template)\n",
    "\n",
    "    def docs2str(docs):\n",
    "        if not docs:\n",
    "            print(\"No documents retrieved!\")\n",
    "        else:\n",
    "            print(\"Retrieved documents:\", [doc.page_content for doc in docs])\n",
    "        return \"\\n\\n\".join(doc.page_content for doc in docs)\n",
    "\n",
    "\n",
    "    rag_chain = (\n",
    "        {\"context\": retriever | docs2str, \"question\": RunnablePassthrough()}\n",
    "        | prompt\n",
    "        | llm\n",
    "        | StrOutputParser()\n",
    "    )\n",
    "\n",
    "    response = rag_chain.invoke(question)\n",
    "    return response\n"
   ]
  },
  {
   "cell_type": "code",
   "execution_count": null,
   "metadata": {
    "id": "nXNlyfIdJ_I-"
   },
   "outputs": [],
   "source": [
    "def retrieve_and_generate_sports(question):\n",
    "    print(\"Calling retrieve_and_generate_sports\")\n",
    "    template = \"\"\"Answer the question based only on the following context:\n",
    "    {context}\n",
    "    Question: {question}\n",
    "    Answer: \"\"\"\n",
    "\n",
    "    prompt = ChatPromptTemplate.from_template(template)\n",
    "\n",
    "    def docs2str(docs):\n",
    "        if not docs:\n",
    "            print(\"No documents retrieved!\")\n",
    "        else:\n",
    "            print(\"Retrieved documents:\", [doc.page_content for doc in docs])\n",
    "        return \"\\n\\n\".join(doc.page_content for doc in docs)\n",
    "\n",
    "    rag_chain = (\n",
    "        {\"context\": retriever | docs2str, \"question\": RunnablePassthrough()}\n",
    "        | prompt\n",
    "        | llm\n",
    "        | StrOutputParser()\n",
    "    )\n",
    "\n",
    "    response = rag_chain.invoke(question)\n",
    "    return response\n"
   ]
  },
  {
   "cell_type": "markdown",
   "metadata": {},
   "source": [
    "Now that we have two agents set up, we need a central agent to manage them. This central agent, called the \"central_agent,\" will determine which agents should be triggered based on the query. We will also configure the process of handing off tasks between the agents"
   ]
  },
  {
   "cell_type": "code",
   "execution_count": null,
   "metadata": {
    "id": "AmXWJuZJJ_K-"
   },
   "outputs": [],
   "source": [
    "from swarm import Swarm, Agent\n",
    "\n",
    "# Define the Politics and sports agents\n",
    "politcs_agent = Agent(\n",
    "    name=\"Politics Agent\",\n",
    "    instructions=\"You retrieve relevant information from the Politics knowledge base and generate responses to general queries about politics.\",\n",
    "    functions=[retrieve_and_generate_politics]\n",
    ")\n",
    "\n",
    "sports_agent = Agent(\n",
    "    name=\"Sports Agent\",\n",
    "    instructions=\"You retrieve relevant information from the Sports knowledge base and generate responses to general queries about the sports.\",\n",
    "    functions=[retrieve_and_generate_sports]\n",
    ")\n",
    "\n",
    "# Define the Central Agent\n",
    "central_agent = Agent(\n",
    "    name=\"Central Agent\",\n",
    "    instructions=\"Determine if the query is about poltics or sports, and route the query accordingly.\"\n",
    ")\n",
    "\n",
    "# Define handoff functions\n",
    "def transfer_to_politics():\n",
    "    print(\"Handing off to the politics Agent.\")\n",
    "    \"\"\"Transfer the task to the politcs_agent Agent for poltical queries.\"\"\"\n",
    "    return politcs_agent\n",
    "\n",
    "def transfer_to_sports():\n",
    "    print(\"Handing off to the sports agent.\")\n",
    "    \"\"\"Transfer the task to the sport_Agent for sports queries.\"\"\"\n",
    "    return sports_agent\n",
    "\n",
    "# Attach the handoff functions to the central agent\n",
    "central_agent.functions = [transfer_to_politics, transfer_to_sports]\n"
   ]
  },
  {
   "cell_type": "code",
   "execution_count": null,
   "metadata": {
    "colab": {
     "base_uri": "https://localhost:8080/"
    },
    "id": "5AiRHpVQJ_Mw",
    "outputId": "4e3b933b-7ef7-4a01-de87-f8eb21e539c8"
   },
   "outputs": [
    {
     "name": "stdout",
     "output_type": "stream",
     "text": [
      "\n",
      "--- Example 1: Asking about the politics ---\n",
      "Handing off to the politics Agent.\n",
      "Calling retrieve_and_generate_politics\n",
      "Retrieved documents: ['India held the 2023 summit in September 2023.[40] The presidency\\'s theme was Vasudhaiva Kutumbakam (Sanskrit: वसुधैव कुटुम्बकम्; English:\"One Earth, One Family, One Future\"[d]).[41][42] In an interview on 26 August 2023, Prime Minister Narendra Modi expressed optimism about the G20 countries\\' evolving agenda under India\\'s presidency, shifting toward a human-centric development approach that aligns with the concerns of the Global South, including addressing climate change, debt restructuring through the G20\\'s Common Framework for debt, and a strategy for regulation of global cryptocurrencies. G20 expanded by the inclusion of African Union, it is also the first inclusion since 1999.[43][44][45]\\n\\nThe Brazilian presidency launched the G20 Social, a place where for the first time the organization will bring the civil society into the debate where it can participate and contribute to discussions and policy formulations regarding to the summit.[46]', 'India held the 2023 summit in September 2023.[40] The presidency\\'s theme was Vasudhaiva Kutumbakam (Sanskrit: वसुधैव कुटुम्बकम्; English:\"One Earth, One Family, One Future\"[d]).[41][42] In an interview on 26 August 2023, Prime Minister Narendra Modi expressed optimism about the G20 countries\\' evolving agenda under India\\'s presidency, shifting toward a human-centric development approach that aligns with the concerns of the Global South, including addressing climate change, debt restructuring through the G20\\'s Common Framework for debt, and a strategy for regulation of global cryptocurrencies. G20 expanded by the inclusion of African Union, it is also the first inclusion since 1999.[43][44][45]\\n\\nThe Brazilian presidency launched the G20 Social, a place where for the first time the organization will bring the civil society into the debate where it can participate and contribute to discussions and policy formulations regarding to the summit.[46]', 'The G7 recognised that they could not manage the 2008 financial crisis on their own and needed a wider international partnership, but one under their aegis. With this in mind, the G20 forum hitherto at the finance minister level was raised to the summit level. The G20 agenda is, however, shifting increasingly towards the interests and priorities of the developing countries (now being referred to as the Global South). During India’s G20 presidency, with India holding the Voice of the Global South summits before presiding over the G20 and at the conclusion of its work, and with the inclusion of the African Union as a G20 permanent member at India’s initiative, the pro-Global South content of the G20 agenda has got consolidated.', 'The G7 recognised that they could not manage the 2008 financial crisis on their own and needed a wider international partnership, but one under their aegis. With this in mind, the G20 forum hitherto at the finance minister level was raised to the summit level. The G20 agenda is, however, shifting increasingly towards the interests and priorities of the developing countries (now being referred to as the Global South). During India’s G20 presidency, with India holding the Voice of the Global South summits before presiding over the G20 and at the conclusion of its work, and with the inclusion of the African Union as a G20 permanent member at India’s initiative, the pro-Global South content of the G20 agenda has got consolidated.']\n",
      "The current political discussion centers around the G20 summit under India's presidency, emphasizing a human-centric development approach and addressing the concerns of the Global South. Key issues include:\n",
      "\n",
      "1. **Climate Change**: Strategies and actions to mitigate climate change impacts.\n",
      "2. **Debt Restructuring**: Efforts through the G20's Common Framework for debt.\n",
      "3. **Cryptocurrency Regulation**: Establishing rules and guidelines for global cryptocurrencies.\n",
      "4. **Civil Society Inclusion**: Encouraging participation through initiatives like the G20 Social platform launched by the Brazilian presidency.\n",
      "5. **African Union Membership**: The African Union's inclusion as a permanent G20 member, enriching the agenda with pro-Global South content.\n",
      "\n",
      "These topics reflect an agenda aiming for inclusive development and international cooperation.\n"
     ]
    }
   ],
   "source": [
    "client = Swarm()\n",
    "\n",
    "# Example 1: Asking about the politics\n",
    "print(\"\\n--- Example 1: Asking about the politics ---\")\n",
    "messages = [{\"role\": \"user\", \"content\": \"What is the political discussion about?\"}]\n",
    "response = client.run(agent=central_agent, messages=messages)\n",
    "if isinstance(response, Agent):\n",
    "    selected_agent = response\n",
    "    result = selected_agent.functions\n",
    "    print(result)\n",
    "else:\n",
    "    print(response.messages[-1][\"content\"])\n",
    "\n",
    "\n"
   ]
  },
  {
   "cell_type": "code",
   "execution_count": null,
   "metadata": {
    "colab": {
     "base_uri": "https://localhost:8080/"
    },
    "id": "OPfM-YkKJ_Ow",
    "outputId": "541389f3-b7eb-4f92-b30b-2997c648e795"
   },
   "outputs": [
    {
     "name": "stdout",
     "output_type": "stream",
     "text": [
      "\n",
      "--- Example 2: Asking from the sports ---\n",
      "Handing off to the sports agent.\n",
      "Calling retrieve_and_generate_sports\n",
      "Retrieved documents: [\"India\\n\\nPercent: 61.11, matches remaining: Aus (4 away)\\n\\nIndia's emphatic win in Perth takes them back to the top of the WTC points table, and keeps their chances of making it to the final at Lord's next year very much alive. To be certain of finishing among the top two without depending on other results, India still need to beat Australia 4-0: four wins and a draw would lift India to 65.79, which would be marginally more than New Zealand's maximum (64.29) if they were to blank England 3-0 at home. India would then at worst be second on the points table, after South Africa, who can finish on a maximum of 69.44 with 2-0 home wins against Sri Lanka and Pakistan.\\n\\nAustralia\\n\\nPercent: 57.69, matches remaining: Ind (4 home Tests), SL (2 away)\", \"India\\n\\nPercent: 61.11, matches remaining: Aus (4 away)\\n\\nIndia's emphatic win in Perth takes them back to the top of the WTC points table, and keeps their chances of making it to the final at Lord's next year very much alive. To be certain of finishing among the top two without depending on other results, India still need to beat Australia 4-0: four wins and a draw would lift India to 65.79, which would be marginally more than New Zealand's maximum (64.29) if they were to blank England 3-0 at home. India would then at worst be second on the points table, after South Africa, who can finish on a maximum of 69.44 with 2-0 home wins against Sri Lanka and Pakistan.\\n\\nAustralia\\n\\nPercent: 57.69, matches remaining: Ind (4 home Tests), SL (2 away)\", \"Race to the WTC final: India back on top after Perth win Australia, meanwhile, have plenty to do if they're to finish in the top two without depending on other results\\n\\nWith 17 Tests to go in the current World Test Championship (WTC) cycle, several teams are still in contention, and no team is assured of a place in the top two. Here is how the teams currently stack up.\\n\\nIndia\\n\\nPercent: 61.11, matches remaining: Aus (4 away)\", \"Race to the WTC final: India back on top after Perth win Australia, meanwhile, have plenty to do if they're to finish in the top two without depending on other results\\n\\nWith 17 Tests to go in the current World Test Championship (WTC) cycle, several teams are still in contention, and no team is assured of a place in the top two. Here is how the teams currently stack up.\\n\\nIndia\\n\\nPercent: 61.11, matches remaining: Aus (4 away)\"]\n",
      "There are 17 Test matches to be played before the World Test Championship (WTC). The maximum points that New Zealand can achieve is 64.29.\n"
     ]
    }
   ],
   "source": [
    "# Example 2: Asking about the sports\n",
    "print(\"\\n--- Example 2: Asking from the sports ---\")\n",
    "messages = [{\"role\": \"user\", \"content\": \"How many test matches are to be played before the World Test Championship (WTC) and what is the maximum points that newzealand can have?\"}]\n",
    "response = client.run(agent=central_agent, messages=messages)\n",
    "if isinstance(response, Agent):\n",
    "    selected_agent = response\n",
    "    result = selected_agent.functions\n",
    "    print(result)\n",
    "else:\n",
    "    print(response.messages[-1][\"content\"])"
   ]
  },
  {
   "cell_type": "code",
   "execution_count": null,
   "metadata": {
    "colab": {
     "base_uri": "https://localhost:8080/"
    },
    "id": "URQyuG33QX0n",
    "outputId": "fdcd65bb-454c-4964-8e22-005ebc22475f"
   },
   "outputs": [
    {
     "name": "stdout",
     "output_type": "stream",
     "text": [
      "\n",
      "--- Example 2: Asking from the sports ---\n",
      "It seems your query is neither related to politics nor sports. The glycemic index (GI) is a system that ranks foods on a scale from 0 to 100 based on how much they raise blood glucose levels after eating. Foods are classified as low (55 or less), medium (56 to 69), or high (70 or more) GI. Several factors influence the glycemic index of food:\n",
      "\n",
      "1. **Type of Carbohydrates:** Simple carbohydrates generally have a higher GI compared to complex carbohydrates.\n",
      "  \n",
      "2. **Fiber Content:** Foods high in fiber typically have a lower GI because fiber slows the digestion and absorption of carbohydrates.\n",
      "\n",
      "3. **Ripeness and Storage:** The riper a fruit or vegetable, the higher its GI because its sugars become more readily digestible.\n",
      "\n",
      "4. **Processing and Preparation:** Foods that are more processed or ground into flour usually have a higher GI. Cooking methods can also affect GI; for example, boiling can lower the GI compared to baking or frying.\n",
      "\n",
      "5. **Protein and Fat Content:** Meals high in protein and fat tend to have a lower GI because they slow down the digestion process.\n",
      "\n",
      "These factors influence how quickly glucose is absorbed into the bloodstream, thus affecting the GI of the food.\n"
     ]
    }
   ],
   "source": [
    "# Example 1: Asking about the random about that neither politics not sports\n",
    "print(\"\\n--- Example 2: Asking from the sports ---\")\n",
    "messages = [{\"role\": \"user\", \"content\": \"What is glycemic index and what influences the glycemic index of a food\"}]\n",
    "response = client.run(agent=central_agent, messages=messages)\n",
    "if isinstance(response, Agent):\n",
    "    selected_agent = response\n",
    "    result = selected_agent.functions\n",
    "    print(result)\n",
    "else:\n",
    "    print(response.messages[-1][\"content\"])"
   ]
  },
  {
   "cell_type": "markdown",
   "metadata": {},
   "source": [
    "# Conclusion\n",
    "In conclusion, OpenAI's Swarm opens up exciting possibilities by harnessing the power of multiple intelligent agents, each equipped with specialized skills to tackle complex tasks. Throughout this blog, we've explored the core concepts of Swarm, its role in enhancing automation, and how you can set up your own multi-agent system using Large Language Models (LLMs). The real magic lies in the way these agents collaborate, boosting efficiency and scalability in various applications.\n",
    "While we've covered the fundamentals, there's still much more to explore. For instance, delving deeper into advanced techniques for optimizing agent communication or integrating Swarm with other AI frameworks could elevate your projects even further. Additionally, experimenting with different types of tasks and fine-tuning agent roles will provide a more tailored solution for specific use cases."
   ]
  }
 ],
 "metadata": {
  "colab": {
   "provenance": []
  },
  "kernelspec": {
   "display_name": "Python 3",
   "name": "python3"
  },
  "language_info": {
   "name": "python"
  },
  "widgets": {
   "application/vnd.jupyter.widget-state+json": {
    "0b00d2d4326b4944bede8c46974ae561": {
     "model_module": "@jupyter-widgets/controls",
     "model_module_version": "1.5.0",
     "model_name": "HTMLModel",
     "state": {
      "_dom_classes": [],
      "_model_module": "@jupyter-widgets/controls",
      "_model_module_version": "1.5.0",
      "_model_name": "HTMLModel",
      "_view_count": null,
      "_view_module": "@jupyter-widgets/controls",
      "_view_module_version": "1.5.0",
      "_view_name": "HTMLView",
      "description": "",
      "description_tooltip": null,
      "layout": "IPY_MODEL_775d684bbddc4091b047a4d326b43350",
      "placeholder": "​",
      "style": "IPY_MODEL_6d063f066fbe4440ae336d4dbcd79746",
      "value": " 5/5 [00:05&lt;00:00,  1.19it/s]"
     }
    },
    "224b6d265c8d447e94ec2d0f8e9461ab": {
     "model_module": "@jupyter-widgets/controls",
     "model_module_version": "1.5.0",
     "model_name": "ProgressStyleModel",
     "state": {
      "_model_module": "@jupyter-widgets/controls",
      "_model_module_version": "1.5.0",
      "_model_name": "ProgressStyleModel",
      "_view_count": null,
      "_view_module": "@jupyter-widgets/base",
      "_view_module_version": "1.2.0",
      "_view_name": "StyleView",
      "bar_color": null,
      "description_width": ""
     }
    },
    "335c5bc888584cd48997536d38a48d67": {
     "model_module": "@jupyter-widgets/controls",
     "model_module_version": "1.5.0",
     "model_name": "HTMLModel",
     "state": {
      "_dom_classes": [],
      "_model_module": "@jupyter-widgets/controls",
      "_model_module_version": "1.5.0",
      "_model_name": "HTMLModel",
      "_view_count": null,
      "_view_module": "@jupyter-widgets/controls",
      "_view_module_version": "1.5.0",
      "_view_name": "HTMLView",
      "description": "",
      "description_tooltip": null,
      "layout": "IPY_MODEL_4973fd3886bf438aaf4242df8723dcb0",
      "placeholder": "​",
      "style": "IPY_MODEL_e7638975d023451e9d5e741a5ba3d6a5",
      "value": "Evaluating: 100%"
     }
    },
    "4020eaf702e64e11b9fd26a8aa3ef705": {
     "model_module": "@jupyter-widgets/base",
     "model_module_version": "1.2.0",
     "model_name": "LayoutModel",
     "state": {
      "_model_module": "@jupyter-widgets/base",
      "_model_module_version": "1.2.0",
      "_model_name": "LayoutModel",
      "_view_count": null,
      "_view_module": "@jupyter-widgets/base",
      "_view_module_version": "1.2.0",
      "_view_name": "LayoutView",
      "align_content": null,
      "align_items": null,
      "align_self": null,
      "border": null,
      "bottom": null,
      "display": null,
      "flex": null,
      "flex_flow": null,
      "grid_area": null,
      "grid_auto_columns": null,
      "grid_auto_flow": null,
      "grid_auto_rows": null,
      "grid_column": null,
      "grid_gap": null,
      "grid_row": null,
      "grid_template_areas": null,
      "grid_template_columns": null,
      "grid_template_rows": null,
      "height": null,
      "justify_content": null,
      "justify_items": null,
      "left": null,
      "margin": null,
      "max_height": null,
      "max_width": null,
      "min_height": null,
      "min_width": null,
      "object_fit": null,
      "object_position": null,
      "order": null,
      "overflow": null,
      "overflow_x": null,
      "overflow_y": null,
      "padding": null,
      "right": null,
      "top": null,
      "visibility": null,
      "width": null
     }
    },
    "4973fd3886bf438aaf4242df8723dcb0": {
     "model_module": "@jupyter-widgets/base",
     "model_module_version": "1.2.0",
     "model_name": "LayoutModel",
     "state": {
      "_model_module": "@jupyter-widgets/base",
      "_model_module_version": "1.2.0",
      "_model_name": "LayoutModel",
      "_view_count": null,
      "_view_module": "@jupyter-widgets/base",
      "_view_module_version": "1.2.0",
      "_view_name": "LayoutView",
      "align_content": null,
      "align_items": null,
      "align_self": null,
      "border": null,
      "bottom": null,
      "display": null,
      "flex": null,
      "flex_flow": null,
      "grid_area": null,
      "grid_auto_columns": null,
      "grid_auto_flow": null,
      "grid_auto_rows": null,
      "grid_column": null,
      "grid_gap": null,
      "grid_row": null,
      "grid_template_areas": null,
      "grid_template_columns": null,
      "grid_template_rows": null,
      "height": null,
      "justify_content": null,
      "justify_items": null,
      "left": null,
      "margin": null,
      "max_height": null,
      "max_width": null,
      "min_height": null,
      "min_width": null,
      "object_fit": null,
      "object_position": null,
      "order": null,
      "overflow": null,
      "overflow_x": null,
      "overflow_y": null,
      "padding": null,
      "right": null,
      "top": null,
      "visibility": null,
      "width": null
     }
    },
    "5fe3fe8f951844e1a3edd7720e0a1dd0": {
     "model_module": "@jupyter-widgets/controls",
     "model_module_version": "1.5.0",
     "model_name": "HBoxModel",
     "state": {
      "_dom_classes": [],
      "_model_module": "@jupyter-widgets/controls",
      "_model_module_version": "1.5.0",
      "_model_name": "HBoxModel",
      "_view_count": null,
      "_view_module": "@jupyter-widgets/controls",
      "_view_module_version": "1.5.0",
      "_view_name": "HBoxView",
      "box_style": "",
      "children": [
       "IPY_MODEL_fb8eee445aa142899655c7adadfe421b",
       "IPY_MODEL_f6881a867fe0475ea2fa0b9fa1a3555f",
       "IPY_MODEL_b0be78e162944e529a5a6bcad2ec07d5"
      ],
      "layout": "IPY_MODEL_4020eaf702e64e11b9fd26a8aa3ef705"
     }
    },
    "68a02378db33404fab0de72708ca524e": {
     "model_module": "@jupyter-widgets/base",
     "model_module_version": "1.2.0",
     "model_name": "LayoutModel",
     "state": {
      "_model_module": "@jupyter-widgets/base",
      "_model_module_version": "1.2.0",
      "_model_name": "LayoutModel",
      "_view_count": null,
      "_view_module": "@jupyter-widgets/base",
      "_view_module_version": "1.2.0",
      "_view_name": "LayoutView",
      "align_content": null,
      "align_items": null,
      "align_self": null,
      "border": null,
      "bottom": null,
      "display": null,
      "flex": null,
      "flex_flow": null,
      "grid_area": null,
      "grid_auto_columns": null,
      "grid_auto_flow": null,
      "grid_auto_rows": null,
      "grid_column": null,
      "grid_gap": null,
      "grid_row": null,
      "grid_template_areas": null,
      "grid_template_columns": null,
      "grid_template_rows": null,
      "height": null,
      "justify_content": null,
      "justify_items": null,
      "left": null,
      "margin": null,
      "max_height": null,
      "max_width": null,
      "min_height": null,
      "min_width": null,
      "object_fit": null,
      "object_position": null,
      "order": null,
      "overflow": null,
      "overflow_x": null,
      "overflow_y": null,
      "padding": null,
      "right": null,
      "top": null,
      "visibility": null,
      "width": null
     }
    },
    "68b0c9bcccf0452b80c8c09d7463bbf9": {
     "model_module": "@jupyter-widgets/controls",
     "model_module_version": "1.5.0",
     "model_name": "HBoxModel",
     "state": {
      "_dom_classes": [],
      "_model_module": "@jupyter-widgets/controls",
      "_model_module_version": "1.5.0",
      "_model_name": "HBoxModel",
      "_view_count": null,
      "_view_module": "@jupyter-widgets/controls",
      "_view_module_version": "1.5.0",
      "_view_name": "HBoxView",
      "box_style": "",
      "children": [
       "IPY_MODEL_335c5bc888584cd48997536d38a48d67",
       "IPY_MODEL_d5c4dbccdb4e45ada759ceead7f4b3d2",
       "IPY_MODEL_0b00d2d4326b4944bede8c46974ae561"
      ],
      "layout": "IPY_MODEL_9986ea6e473a42b399bf6de92e6731f6"
     }
    },
    "68ef6aeb68f74ffaad4c7d4e5d27cc0e": {
     "model_module": "@jupyter-widgets/base",
     "model_module_version": "1.2.0",
     "model_name": "LayoutModel",
     "state": {
      "_model_module": "@jupyter-widgets/base",
      "_model_module_version": "1.2.0",
      "_model_name": "LayoutModel",
      "_view_count": null,
      "_view_module": "@jupyter-widgets/base",
      "_view_module_version": "1.2.0",
      "_view_name": "LayoutView",
      "align_content": null,
      "align_items": null,
      "align_self": null,
      "border": null,
      "bottom": null,
      "display": null,
      "flex": null,
      "flex_flow": null,
      "grid_area": null,
      "grid_auto_columns": null,
      "grid_auto_flow": null,
      "grid_auto_rows": null,
      "grid_column": null,
      "grid_gap": null,
      "grid_row": null,
      "grid_template_areas": null,
      "grid_template_columns": null,
      "grid_template_rows": null,
      "height": null,
      "justify_content": null,
      "justify_items": null,
      "left": null,
      "margin": null,
      "max_height": null,
      "max_width": null,
      "min_height": null,
      "min_width": null,
      "object_fit": null,
      "object_position": null,
      "order": null,
      "overflow": null,
      "overflow_x": null,
      "overflow_y": null,
      "padding": null,
      "right": null,
      "top": null,
      "visibility": null,
      "width": null
     }
    },
    "6d063f066fbe4440ae336d4dbcd79746": {
     "model_module": "@jupyter-widgets/controls",
     "model_module_version": "1.5.0",
     "model_name": "DescriptionStyleModel",
     "state": {
      "_model_module": "@jupyter-widgets/controls",
      "_model_module_version": "1.5.0",
      "_model_name": "DescriptionStyleModel",
      "_view_count": null,
      "_view_module": "@jupyter-widgets/base",
      "_view_module_version": "1.2.0",
      "_view_name": "StyleView",
      "description_width": ""
     }
    },
    "775d684bbddc4091b047a4d326b43350": {
     "model_module": "@jupyter-widgets/base",
     "model_module_version": "1.2.0",
     "model_name": "LayoutModel",
     "state": {
      "_model_module": "@jupyter-widgets/base",
      "_model_module_version": "1.2.0",
      "_model_name": "LayoutModel",
      "_view_count": null,
      "_view_module": "@jupyter-widgets/base",
      "_view_module_version": "1.2.0",
      "_view_name": "LayoutView",
      "align_content": null,
      "align_items": null,
      "align_self": null,
      "border": null,
      "bottom": null,
      "display": null,
      "flex": null,
      "flex_flow": null,
      "grid_area": null,
      "grid_auto_columns": null,
      "grid_auto_flow": null,
      "grid_auto_rows": null,
      "grid_column": null,
      "grid_gap": null,
      "grid_row": null,
      "grid_template_areas": null,
      "grid_template_columns": null,
      "grid_template_rows": null,
      "height": null,
      "justify_content": null,
      "justify_items": null,
      "left": null,
      "margin": null,
      "max_height": null,
      "max_width": null,
      "min_height": null,
      "min_width": null,
      "object_fit": null,
      "object_position": null,
      "order": null,
      "overflow": null,
      "overflow_x": null,
      "overflow_y": null,
      "padding": null,
      "right": null,
      "top": null,
      "visibility": null,
      "width": null
     }
    },
    "8437d18c56414d92990b7983d96e89dc": {
     "model_module": "@jupyter-widgets/base",
     "model_module_version": "1.2.0",
     "model_name": "LayoutModel",
     "state": {
      "_model_module": "@jupyter-widgets/base",
      "_model_module_version": "1.2.0",
      "_model_name": "LayoutModel",
      "_view_count": null,
      "_view_module": "@jupyter-widgets/base",
      "_view_module_version": "1.2.0",
      "_view_name": "LayoutView",
      "align_content": null,
      "align_items": null,
      "align_self": null,
      "border": null,
      "bottom": null,
      "display": null,
      "flex": null,
      "flex_flow": null,
      "grid_area": null,
      "grid_auto_columns": null,
      "grid_auto_flow": null,
      "grid_auto_rows": null,
      "grid_column": null,
      "grid_gap": null,
      "grid_row": null,
      "grid_template_areas": null,
      "grid_template_columns": null,
      "grid_template_rows": null,
      "height": null,
      "justify_content": null,
      "justify_items": null,
      "left": null,
      "margin": null,
      "max_height": null,
      "max_width": null,
      "min_height": null,
      "min_width": null,
      "object_fit": null,
      "object_position": null,
      "order": null,
      "overflow": null,
      "overflow_x": null,
      "overflow_y": null,
      "padding": null,
      "right": null,
      "top": null,
      "visibility": null,
      "width": null
     }
    },
    "84afe573d41c44a1a8dad4d172c92f2d": {
     "model_module": "@jupyter-widgets/base",
     "model_module_version": "1.2.0",
     "model_name": "LayoutModel",
     "state": {
      "_model_module": "@jupyter-widgets/base",
      "_model_module_version": "1.2.0",
      "_model_name": "LayoutModel",
      "_view_count": null,
      "_view_module": "@jupyter-widgets/base",
      "_view_module_version": "1.2.0",
      "_view_name": "LayoutView",
      "align_content": null,
      "align_items": null,
      "align_self": null,
      "border": null,
      "bottom": null,
      "display": null,
      "flex": null,
      "flex_flow": null,
      "grid_area": null,
      "grid_auto_columns": null,
      "grid_auto_flow": null,
      "grid_auto_rows": null,
      "grid_column": null,
      "grid_gap": null,
      "grid_row": null,
      "grid_template_areas": null,
      "grid_template_columns": null,
      "grid_template_rows": null,
      "height": null,
      "justify_content": null,
      "justify_items": null,
      "left": null,
      "margin": null,
      "max_height": null,
      "max_width": null,
      "min_height": null,
      "min_width": null,
      "object_fit": null,
      "object_position": null,
      "order": null,
      "overflow": null,
      "overflow_x": null,
      "overflow_y": null,
      "padding": null,
      "right": null,
      "top": null,
      "visibility": null,
      "width": null
     }
    },
    "88091ea2a535457c96e2e1f77851ca5b": {
     "model_module": "@jupyter-widgets/controls",
     "model_module_version": "1.5.0",
     "model_name": "ProgressStyleModel",
     "state": {
      "_model_module": "@jupyter-widgets/controls",
      "_model_module_version": "1.5.0",
      "_model_name": "ProgressStyleModel",
      "_view_count": null,
      "_view_module": "@jupyter-widgets/base",
      "_view_module_version": "1.2.0",
      "_view_name": "StyleView",
      "bar_color": null,
      "description_width": ""
     }
    },
    "9986ea6e473a42b399bf6de92e6731f6": {
     "model_module": "@jupyter-widgets/base",
     "model_module_version": "1.2.0",
     "model_name": "LayoutModel",
     "state": {
      "_model_module": "@jupyter-widgets/base",
      "_model_module_version": "1.2.0",
      "_model_name": "LayoutModel",
      "_view_count": null,
      "_view_module": "@jupyter-widgets/base",
      "_view_module_version": "1.2.0",
      "_view_name": "LayoutView",
      "align_content": null,
      "align_items": null,
      "align_self": null,
      "border": null,
      "bottom": null,
      "display": null,
      "flex": null,
      "flex_flow": null,
      "grid_area": null,
      "grid_auto_columns": null,
      "grid_auto_flow": null,
      "grid_auto_rows": null,
      "grid_column": null,
      "grid_gap": null,
      "grid_row": null,
      "grid_template_areas": null,
      "grid_template_columns": null,
      "grid_template_rows": null,
      "height": null,
      "justify_content": null,
      "justify_items": null,
      "left": null,
      "margin": null,
      "max_height": null,
      "max_width": null,
      "min_height": null,
      "min_width": null,
      "object_fit": null,
      "object_position": null,
      "order": null,
      "overflow": null,
      "overflow_x": null,
      "overflow_y": null,
      "padding": null,
      "right": null,
      "top": null,
      "visibility": null,
      "width": null
     }
    },
    "b0be78e162944e529a5a6bcad2ec07d5": {
     "model_module": "@jupyter-widgets/controls",
     "model_module_version": "1.5.0",
     "model_name": "HTMLModel",
     "state": {
      "_dom_classes": [],
      "_model_module": "@jupyter-widgets/controls",
      "_model_module_version": "1.5.0",
      "_model_name": "HTMLModel",
      "_view_count": null,
      "_view_module": "@jupyter-widgets/controls",
      "_view_module_version": "1.5.0",
      "_view_name": "HTMLView",
      "description": "",
      "description_tooltip": null,
      "layout": "IPY_MODEL_8437d18c56414d92990b7983d96e89dc",
      "placeholder": "​",
      "style": "IPY_MODEL_d4ace0641567453cab53962d60580e63",
      "value": " 12/12 [00:07&lt;00:00,  1.69it/s]"
     }
    },
    "d0ddfa56dcf84e3cb21ef0a32216944b": {
     "model_module": "@jupyter-widgets/controls",
     "model_module_version": "1.5.0",
     "model_name": "DescriptionStyleModel",
     "state": {
      "_model_module": "@jupyter-widgets/controls",
      "_model_module_version": "1.5.0",
      "_model_name": "DescriptionStyleModel",
      "_view_count": null,
      "_view_module": "@jupyter-widgets/base",
      "_view_module_version": "1.2.0",
      "_view_name": "StyleView",
      "description_width": ""
     }
    },
    "d4ace0641567453cab53962d60580e63": {
     "model_module": "@jupyter-widgets/controls",
     "model_module_version": "1.5.0",
     "model_name": "DescriptionStyleModel",
     "state": {
      "_model_module": "@jupyter-widgets/controls",
      "_model_module_version": "1.5.0",
      "_model_name": "DescriptionStyleModel",
      "_view_count": null,
      "_view_module": "@jupyter-widgets/base",
      "_view_module_version": "1.2.0",
      "_view_name": "StyleView",
      "description_width": ""
     }
    },
    "d5c4dbccdb4e45ada759ceead7f4b3d2": {
     "model_module": "@jupyter-widgets/controls",
     "model_module_version": "1.5.0",
     "model_name": "FloatProgressModel",
     "state": {
      "_dom_classes": [],
      "_model_module": "@jupyter-widgets/controls",
      "_model_module_version": "1.5.0",
      "_model_name": "FloatProgressModel",
      "_view_count": null,
      "_view_module": "@jupyter-widgets/controls",
      "_view_module_version": "1.5.0",
      "_view_name": "ProgressView",
      "bar_style": "success",
      "description": "",
      "description_tooltip": null,
      "layout": "IPY_MODEL_68a02378db33404fab0de72708ca524e",
      "max": 5,
      "min": 0,
      "orientation": "horizontal",
      "style": "IPY_MODEL_88091ea2a535457c96e2e1f77851ca5b",
      "value": 5
     }
    },
    "e7638975d023451e9d5e741a5ba3d6a5": {
     "model_module": "@jupyter-widgets/controls",
     "model_module_version": "1.5.0",
     "model_name": "DescriptionStyleModel",
     "state": {
      "_model_module": "@jupyter-widgets/controls",
      "_model_module_version": "1.5.0",
      "_model_name": "DescriptionStyleModel",
      "_view_count": null,
      "_view_module": "@jupyter-widgets/base",
      "_view_module_version": "1.2.0",
      "_view_name": "StyleView",
      "description_width": ""
     }
    },
    "f6881a867fe0475ea2fa0b9fa1a3555f": {
     "model_module": "@jupyter-widgets/controls",
     "model_module_version": "1.5.0",
     "model_name": "FloatProgressModel",
     "state": {
      "_dom_classes": [],
      "_model_module": "@jupyter-widgets/controls",
      "_model_module_version": "1.5.0",
      "_model_name": "FloatProgressModel",
      "_view_count": null,
      "_view_module": "@jupyter-widgets/controls",
      "_view_module_version": "1.5.0",
      "_view_name": "ProgressView",
      "bar_style": "success",
      "description": "",
      "description_tooltip": null,
      "layout": "IPY_MODEL_84afe573d41c44a1a8dad4d172c92f2d",
      "max": 12,
      "min": 0,
      "orientation": "horizontal",
      "style": "IPY_MODEL_224b6d265c8d447e94ec2d0f8e9461ab",
      "value": 12
     }
    },
    "fb8eee445aa142899655c7adadfe421b": {
     "model_module": "@jupyter-widgets/controls",
     "model_module_version": "1.5.0",
     "model_name": "HTMLModel",
     "state": {
      "_dom_classes": [],
      "_model_module": "@jupyter-widgets/controls",
      "_model_module_version": "1.5.0",
      "_model_name": "HTMLModel",
      "_view_count": null,
      "_view_module": "@jupyter-widgets/controls",
      "_view_module_version": "1.5.0",
      "_view_name": "HTMLView",
      "description": "",
      "description_tooltip": null,
      "layout": "IPY_MODEL_68ef6aeb68f74ffaad4c7d4e5d27cc0e",
      "placeholder": "​",
      "style": "IPY_MODEL_d0ddfa56dcf84e3cb21ef0a32216944b",
      "value": "Evaluating: 100%"
     }
    }
   }
  }
 },
 "nbformat": 4,
 "nbformat_minor": 0
}
