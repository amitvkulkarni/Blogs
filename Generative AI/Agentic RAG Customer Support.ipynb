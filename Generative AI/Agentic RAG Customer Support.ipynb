{
 "cells": [
  {
   "cell_type": "markdown",
   "metadata": {
    "id": "vk6sQPlK-_9j"
   },
   "source": [
    "# **Agentic RAG for Analyzing Customer Issues**\n",
    "#### Discover how Agentic RAG is transforming customer support by boosting decision-making, increasing efficiency, and offering personalized, proactive solutions with minimal human involvement"
   ]
  },
  {
   "cell_type": "markdown",
   "metadata": {},
   "source": [
    "# Introduction\n",
    "Imagine a customer support team overwhelmed by an endless stream of customer queries, struggling to gather insights from various systems and products. The result? Slow, inaccurate responses and frustrated customers. The time spent searching manually and handling repetitive tasks only adds to the inefficiency.\n",
    "\n",
    "Now, envision a system that effortlessly retrieves relevant information from all these sources, makes intelligent decisions, and delivers personalized solutions, all on its own. With automation at its heart, this system minimizes the need for human intervention, saving time and enhancing both speed and accuracy.\n",
    "\n",
    "This is the power of Agentic RAG. It transforms customer support into a smoother, faster, and more precise process, ensuring quick resolutions and lightening the load for support teams.\n",
    "\n",
    "In this blog, we’ll delve into the ways Agentic RAG is revolutionizing customer support systems. From tackling common challenges to showcasing practical applications, we’ll uncover how this technology provides actionable insights for business leaders looking to optimize operations and for AI enthusiasts eager to explore its potential.\n",
    "\n"
   ]
  },
  {
   "cell_type": "markdown",
   "metadata": {},
   "source": [
    "# Can’t we do it using traditional RAG? Why do we need Agentic RAG?\n",
    "\n",
    "Well, traditional RAG models are good at retrieving relevant information and generating responses. However, they often fall short in one key area — autonomy. While they can handle single-step tasks well, they lack the ability to decide the next best step in complex, multi-step problem-solving. Without the ability to adapt and make decisions on their own, traditional RAG systems struggle with issues that require deeper understanding or follow-up actions. This makes them less effective when it comes to addressing evolving or intricate customer problems.\n",
    "\n",
    "By not having the ability to automatically refine or escalate tasks, traditional RAG models can leave customers without a clear path to resolution, limiting their effectiveness in customer support."
   ]
  },
  {
   "cell_type": "markdown",
   "metadata": {},
   "source": [
    "# What is Agentic RAG?\n",
    "Agentic RAG (Retrieval-Augmented Generation) is an advanced AI system that integrates the power of information retrieval with generative capabilities, all while incorporating autonomous agent-like behavior. This system is designed to go beyond traditional AI models by actively making decisions and adjusting its actions based on task feedback, making it highly adaptive and goal-oriented.\n",
    "\n",
    "### How It Works:\n",
    "* Retrieval: The first step in the process involves fetching relevant data from vast knowledge bases or databases. This ensures that the system has access to accurate, up-to-date information to address customer queries or support issues.\n",
    "* Generation: Once the relevant data is retrieved, the system generates human-like responses or summaries, effectively mimicking natural conversation and providing solutions in an easy-to-understand format.\n",
    "* Agentic Behavior: Unlike traditional models, Agentic RAG introduces a feedback loop that allows it to continuously refine its actions. If an initial response doesn’t fully resolve the issue or needs further clarification, the system can make autonomous decisions to either escalate the issue or adjust its approach based on the feedback it receives.\n",
    "Agentic RAG works with little human input and makes independent, smart decisions. It adapts to changing customer needs, constantly improving its methods as situations shift. Focused on clear goals, it delivers efficient and effective solutions, driving results with accuracy."
   ]
  },
  {
   "cell_type": "code",
   "execution_count": null,
   "metadata": {
    "colab": {
     "base_uri": "https://localhost:8080/"
    },
    "id": "sTdca8aN--2a",
    "outputId": "3422a09e-d337-4d26-f809-258f146a3848"
   },
   "outputs": [],
   "source": [
    "# pip install -q llama-index-core\n",
    "# pip install -q llama-index-readers-file\n",
    "# pip install -q llama-index-embeddings-openai\n",
    "# pip install -q llama-index-llms-llama-api\n",
    "# pip install -q crewai"
   ]
  },
  {
   "cell_type": "code",
   "execution_count": null,
   "metadata": {
    "id": "qS-N-ip_--4i"
   },
   "outputs": [],
   "source": [
    "import os\n",
    "import pandas as pd\n",
    "from crewai import Agent, Task, Crew, Process\n",
    "from crewai_tools import LlamaIndexTool\n",
    "from llama_index.core import VectorStoreIndex, SimpleDirectoryReader\n",
    "from llama_index.llms.openai import OpenAI"
   ]
  },
  {
   "cell_type": "code",
   "execution_count": null,
   "metadata": {
    "colab": {
     "base_uri": "https://localhost:8080/"
    },
    "id": "wXMqOyPXAa9p",
    "outputId": "786c1373-67b0-4447-9425-8b9e2814d6eb"
   },
   "outputs": [],
   "source": [
    "# connect your Google Drive\n",
    "from google.colab import drive\n",
    "drive.mount('/content/gdrive')\n"
   ]
  },
  {
   "cell_type": "code",
   "execution_count": null,
   "metadata": {
    "colab": {
     "base_uri": "https://localhost:8080/"
    },
    "id": "JeBTtOg-McCz",
    "outputId": "81c58747-823d-412c-c745-e79c562cf24b"
   },
   "outputs": [],
   "source": [
    "reader = SimpleDirectoryReader(input_files=[\"/content/customer_support_tickets.csv\"])\n",
    "docs = reader.load_data()\n",
    "docs"
   ]
  },
  {
   "cell_type": "markdown",
   "metadata": {},
   "source": [
    "Dynamic brand filtering plays a vital role in delivering accurate insights. It enables flexible and precise analysis by identifying brands directly within the dataset, removing the reliance on predefined brand lists. This approach simplifies the process and enhances efficiency, making it a powerful tool for data-driven decision-making."
   ]
  },
  {
   "cell_type": "code",
   "execution_count": null,
   "metadata": {
    "id": "umjxcHpPI8qZ"
   },
   "outputs": [],
   "source": [
    "def get_brands_from_dataset(file_path):\n",
    "    \"\"\"Extract unique brands from the dataset.\"\"\"\n",
    "    df = pd.read_csv(file_path)  \n",
    "    unique_brands = df['Brand'].unique().tolist()  \n",
    "    return unique_brands"
   ]
  },
  {
   "cell_type": "code",
   "execution_count": null,
   "metadata": {
    "colab": {
     "base_uri": "https://localhost:8080/",
     "height": 36
    },
    "id": "_GnlzDb-JHO3",
    "outputId": "2b664cbc-7262-4a4d-f0b2-52f63d11c9be"
   },
   "outputs": [
    {
     "data": {
      "application/vnd.google.colaboratory.intrinsic+json": {
       "type": "string"
      },
      "text/plain": [
       "\"GoPro', 'LG', 'Dell', 'Microsoft', 'Autodesk', 'Sony', 'Xbox', 'HP', 'Amazon', 'Adobe', 'Samsung', 'iPhone\""
      ]
     },
     "execution_count": 157,
     "metadata": {},
     "output_type": "execute_result"
    }
   ],
   "source": [
    "# Load dataset and extract brands\n",
    "file_path = \"/content/customer_support_tickets.csv\"  \n",
    "brands_in_data = get_brands_from_dataset(file_path)\n",
    "brands_string = \"', '\".join(brands_in_data)\n",
    "brands_string"
   ]
  },
  {
   "cell_type": "code",
   "execution_count": null,
   "metadata": {
    "id": "EbRTLNrC--9k"
   },
   "outputs": [],
   "source": [
    "import os\n",
    "from google.colab import userdata\n",
    "\n",
    "os.environ[\"OPENAI_API_KEY\"] = userdata.get('OPENAI_API_KEY')\n",
    "llm = OpenAI(model=\"gpt-4o\", temperature=0.5)"
   ]
  },
  {
   "cell_type": "code",
   "execution_count": 160,
   "metadata": {
    "id": "s4O-icMc-_CG"
   },
   "outputs": [],
   "source": [
    "index = VectorStoreIndex.from_documents(docs)\n",
    "query_engine = index.as_query_engine(similarity_top_k=5, llm=llm)"
   ]
  },
  {
   "cell_type": "code",
   "execution_count": 161,
   "metadata": {
    "id": "wpuKBiG-FQ5U"
   },
   "outputs": [],
   "source": [
    "query_tool = LlamaIndexTool.from_query_engine(\n",
    "    query_engine,\n",
    "    name=\"Customer Support Query Tool\",\n",
    "    description=\"Use this tool to lookup the brand data in the data in '{brands_string}' and generate insights only for these brand\"\n",
    ")"
   ]
  },
  {
   "cell_type": "code",
   "execution_count": null,
   "metadata": {
    "id": "19ysYT5H-_Gi"
   },
   "outputs": [],
   "source": [
    "analyst = Agent(\n",
    "      role=\"Customer Ticket Analyst\",\n",
    "      goal=\"Uncover insights about customer issues trends\",\n",
    "      backstory=\"\"\"You work at a Product Company. Your goal is to understand customer issues patterns for each of the Brand that is part of the dataset.\"\"\",\n",
    "      verbose=True,\n",
    "      allow_delegation=False,\n",
    "      tools=[query_tool],\n",
    "  )\n",
    "\n",
    "\n",
    "writer = Agent(\n",
    "      role=\"Product Content Specialist\",\n",
    "      goal=\"\"\"Craft compelling content on customer issues trends for each of the brands in the dataset\"\"\",\n",
    "      backstory=\"\"\"You are a renowned Content Specialist, known for your insightful and engaging articles.\n",
    "    You transform complex sales data into compelling narratives.\"\"\",\n",
    "      verbose=True,\n",
    "      allow_delegation=False,\n",
    "  )\n",
    "\n"
   ]
  },
  {
   "cell_type": "code",
   "execution_count": null,
   "metadata": {
    "id": "HD8pXqsi-_It"
   },
   "outputs": [],
   "source": [
    "task1 = Task(\n",
    "      description = \"\"\"Analyze the top customer issues for each of the brands in '{brands_string}'.\n",
    "      Use the columns Ticket Type, Ticket Subject, and Ticket Description to generate insights.\"\"\",\n",
    "      expected_output=\"Detailed Customer Issues mentioning Ticket Type, Product Purchased and NAME of Brand from '{brands_string}' report with trends and insights.\",\n",
    "      agent=analyst,\n",
    "  )\n",
    "\n",
    "task2 = Task(\n",
    "      description=\"\"\"Using the insights provided, develop an engaging post that highlights the top-customer issues for each of the brands in the dataset their pain points.\n",
    "    Your post should be informative yet accessible, catering to a casual audience.For each of the Brand, categorize the insights based on information from TicketType, TickectSUbject and TicketDescription\n",
    "    Make it sound cool, avoid complex words.\"\"\",\n",
    "      expected_output=\"List in Bullet Points the customer issues. Ensure thet the post has Brand\",\n",
    "      agent=writer,\n",
    "  )\n"
   ]
  },
  {
   "cell_type": "code",
   "execution_count": 164,
   "metadata": {
    "colab": {
     "base_uri": "https://localhost:8080/"
    },
    "id": "bYG078rN-_Kr",
    "outputId": "b6863d89-16b5-4fdb-b6db-ae7559313766"
   },
   "outputs": [
    {
     "name": "stderr",
     "output_type": "stream",
     "text": [
      "WARNING:opentelemetry.trace:Overriding of current TracerProvider is not allowed\n"
     ]
    },
    {
     "name": "stdout",
     "output_type": "stream",
     "text": [
      "\u001b[1m\u001b[95m# Agent:\u001b[00m \u001b[1m\u001b[92mCustomer Ticket Analyst\u001b[00m\n",
      "\u001b[95m## Task:\u001b[00m \u001b[92mAnalyze the top customer issues for each of the brands in '{brands_string}'.\n",
      "      Use the columns Ticket Type, Ticket Subject, and Ticket Description to generate insights.\u001b[00m\n",
      "\n",
      "\n",
      "\u001b[1m\u001b[95m# Agent:\u001b[00m \u001b[1m\u001b[92mCustomer Ticket Analyst\u001b[00m\n",
      "\u001b[95m## Thought:\u001b[00m \u001b[92mI need to analyze the top customer issues for each of the brands in the given string. To do this, I will use the Customer Support Query Tool to gather insights on customer issues based on Ticket Type, Ticket Subject, and Ticket Description.\u001b[00m\n",
      "\u001b[95m## Using tool:\u001b[00m \u001b[92mCustomer Support Query Tool\u001b[00m\n",
      "\u001b[95m## Tool Input:\u001b[00m \u001b[92m\n",
      "\"{\\\"query\\\": \\\"Analyze the top customer issues for each brand in {brands_string}. Focus on Ticket Type, Ticket Subject, and Ticket Description for trends and insights.\\\"}\"\u001b[00m\n",
      "\u001b[95m## Tool Output:\u001b[00m \u001b[92m\n",
      "To analyze the top customer issues for each brand, we can look at the ticket types, subjects, and descriptions for trends and insights:\n",
      "\n",
      "1. **GoPro**: The main issue is a technical problem related to product setup, as indicated by a customer's request for assistance with setting up their GoPro Hero.\n",
      "\n",
      "2. **LG**: Customers face technical issues with peripheral compatibility. A specific issue mentioned is intermittent functionality of an LG Smart TV.\n",
      "\n",
      "3. **Dell**: The primary concern involves network problems, with a customer reporting that their Dell XPS is not turning on despite using the original charger.\n",
      "\n",
      "4. **Microsoft**: Billing inquiries related to account access are common. One customer has repeatedly contacted support without resolution.\n",
      "\n",
      "5. **Autodesk**: Billing inquiries, particularly related to data loss, are a key concern. A customer noted a sudden decrease in battery life of their Autodesk AutoCAD product.\n",
      "\n",
      "6. **Sony**: Billing inquiries related to product setup are prevalent, with issues arising after firmware updates on Sony PlayStation.\n",
      "\n",
      "7. **Xbox**: Product inquiries often relate to account access and security concerns, highlighting a need for data safety.\n",
      "\n",
      "8. **HP**: Refund requests are linked to payment issues, with customers experiencing hardware problems and strange noises from HP Pavilion devices.\n",
      "\n",
      "9. **Amazon**: Product inquiries mostly concern display issues and battery life on Kindle devices, as well as account access and security on Amazon Echo.\n",
      "\n",
      "10. **Adobe**: Billing inquiries are associated with product setup, where a specific feature or application causes consistent issues on Adobe Photoshop.\n",
      "\n",
      "11. **Samsung**: Product inquiries focus on compatibility issues, impacting work and productivity for Samsung Galaxy users.\n",
      "\n",
      "12. **Apple (iPhone)**: Technical issues related to hardware are common, with problems arising after firmware updates on iPhones.\n",
      "\n",
      "Overall, the trends indicate that technical issues, billing inquiries, and product inquiries are the most common ticket types across brands, with specific subjects like product setup, account access, and compatibility frequently mentioned in customer descriptions.\u001b[00m\n",
      "\n",
      "\n",
      "\u001b[1m\u001b[95m# Agent:\u001b[00m \u001b[1m\u001b[92mCustomer Ticket Analyst\u001b[00m\n",
      "\u001b[95m## Final Answer:\u001b[00m \u001b[92m\n",
      "**Customer Issues Insights by Brand:**\n",
      "\n",
      "1. **GoPro**: \n",
      "   - **Ticket Type**: Technical Issue\n",
      "   - **Product Purchased**: GoPro Hero\n",
      "   - **Details**: Customers frequently report issues related to product setup, seeking assistance in configuring their GoPro camera correctly.\n",
      "\n",
      "2. **LG**: \n",
      "   - **Ticket Type**: Technical Issue\n",
      "   - **Product Purchased**: LG Smart TV\n",
      "   - **Details**: A significant number of customers experience compatibility issues with peripherals, specifically noting intermittent functionality of connected devices.\n",
      "\n",
      "3. **Dell**: \n",
      "   - **Ticket Type**: Technical Issue\n",
      "   - **Product Purchased**: Dell XPS\n",
      "   - **Details**: Network-related problems are prominent, with users complaining that their laptop will not power on despite being connected to the original charger.\n",
      "\n",
      "4. **Microsoft**: \n",
      "   - **Ticket Type**: Billing Inquiry\n",
      "   - **Product Purchased**: Microsoft Office Suite\n",
      "   - **Details**: Customers often reach out with inquiries about account access, revealing a pattern of unresolved issues that leads to repeated contact with support.\n",
      "\n",
      "5. **Autodesk**: \n",
      "   - **Ticket Type**: Billing Inquiry\n",
      "   - **Product Purchased**: Autodesk AutoCAD\n",
      "   - **Details**: Users note significant data loss and sudden decreases in performance, particularly regarding battery life on their devices.\n",
      "\n",
      "6. **Sony**: \n",
      "   - **Ticket Type**: Billing Inquiry\n",
      "   - **Product Purchased**: Sony PlayStation\n",
      "   - **Details**: Many billing-related inquiries are tied to problems that arise post firmware updates, causing disruptions in product usage.\n",
      "\n",
      "7. **Xbox**: \n",
      "   - **Ticket Type**: Product Inquiry\n",
      "   - **Product Purchased**: Xbox Console\n",
      "   - **Details**: Security concerns related to user accounts are common, highlighting an ongoing need for improved data safety measures.\n",
      "\n",
      "8. **HP**: \n",
      "   - **Ticket Type**: Refund Request\n",
      "   - **Product Purchased**: HP Pavilion\n",
      "   - **Details**: Customers report issues with hardware, including strange noises emanating from the devices, leading to refund requests.\n",
      "\n",
      "9. **Amazon**: \n",
      "   - **Ticket Type**: Product Inquiry\n",
      "   - **Product Purchased**: Kindle\n",
      "   - **Details**: Kindle users report display issues and battery life concerns, along with security issues related to their Amazon Echo devices.\n",
      "\n",
      "10. **Adobe**: \n",
      "    - **Ticket Type**: Billing Inquiry\n",
      "    - **Product Purchased**: Adobe Photoshop\n",
      "    - **Details**: Users frequently experience issues with product setup, affecting specific features and their overall functionality.\n",
      "\n",
      "11. **Samsung**: \n",
      "    - **Ticket Type**: Product Inquiry\n",
      "    - **Product Purchased**: Samsung Galaxy\n",
      "    - **Details**: Compatibility issues are prevalent, significantly impacting user productivity and work efficiency.\n",
      "\n",
      "12. **Apple (iPhone)**: \n",
      "    - **Ticket Type**: Technical Issue\n",
      "    - **Product Purchased**: iPhone\n",
      "    - **Details**: Customers report a range of technical issues, particularly linked to hardware problems following firmware updates.\n",
      "\n",
      "The analysis reveals that technical issues, billing inquiries, and product inquiries dominate customer support tickets across all brands, with common themes emerging around setup difficulties, account access issues, and compatibility problems.\u001b[00m\n",
      "\n",
      "\n",
      "\u001b[1m\u001b[95m# Agent:\u001b[00m \u001b[1m\u001b[92mProduct Content Specialist\u001b[00m\n",
      "\u001b[95m## Task:\u001b[00m \u001b[92mUsing the insights provided, develop an engaging post that highlights the top-customer issues for each of the brands in the dataset their pain points.\n",
      "    Your post should be informative yet accessible, catering to a casual audience.For each of the Brand, categorize the insights based on information from TicketType, TickectSUbject and TicketDescription\n",
      "    Make it sound cool, avoid complex words.\u001b[00m\n",
      "\n",
      "\n",
      "\u001b[1m\u001b[95m# Agent:\u001b[00m \u001b[1m\u001b[92mProduct Content Specialist\u001b[00m\n",
      "\u001b[95m## Final Answer:\u001b[00m \u001b[92m\n",
      "📦 **Top Customer Issues by Brand** 📦\n",
      "\n",
      "Hey there! Let’s dive into some of the biggest headaches customers are experiencing with their favorite brands. This isn’t just a boring info dump; we’re talking real issues that make tech life a little harder. Here’s what we found:\n",
      "\n",
      "### **GoPro**\n",
      "- **Technical Issues**: \n",
      "  - Lots of folks struggle with setting up their **GoPro Hero**. Users are looking for simple help to get their cameras up and running smoothly.\n",
      "\n",
      "### **LG**\n",
      "- **Technical Issues**: \n",
      "  - Customers with **LG Smart TVs** are facing compatibility problems. They’re not able to keep their connected devices (like gaming consoles or sound systems) working properly.\n",
      "\n",
      "### **Dell**\n",
      "- **Technical Issues**: \n",
      "  - Those rocking a **Dell XPS** are banging their heads against the wall because their laptops won’t power on even when plugged into the original charger. \n",
      "\n",
      "### **Microsoft**\n",
      "- **Billing Inquiries**: \n",
      "  - People using the **Microsoft Office Suite** often have questions about account access. It seems many unresolved issues lead to customers calling support more than once.\n",
      "\n",
      "### **Autodesk**\n",
      "- **Billing Inquiries**:  \n",
      "  - **Autodesk AutoCAD** users are reporting nasty data losses and performance drops. Battery life is a key concern, leaving them frustrated with their tools.\n",
      "\n",
      "### **Sony**\n",
      "- **Billing Inquiries**: \n",
      "  - **Sony PlayStation** owners are seeing billing issues that flare up after firmware updates. This causes interruptions in their playtime, and nobody wants that!\n",
      "\n",
      "### **Xbox**\n",
      "- **Product Inquiries**: \n",
      "  - Security issues with user accounts are a hot topic for **Xbox Console** players. People want reassurance that their data is safe and sound!\n",
      "\n",
      "### **HP**\n",
      "- **Refund Requests**: \n",
      "  - Users with the **HP Pavilion** are noticing weird noises from their devices, prompting them to demand refunds—yikes!\n",
      "\n",
      "### **Amazon**\n",
      "- **Product Inquiries**: \n",
      "  - **Kindle** users can’t catch a break with display issues and battery life concerns. Plus, they’re worrying about security with their **Amazon Echo** devices too.\n",
      "\n",
      "### **Adobe**\n",
      "- **Billing Inquiries**: \n",
      "  - **Adobe Photoshop** users often struggle with product setup, hampering specific features’ functionality. This can be a real damper on creativity!\n",
      "\n",
      "### **Samsung**\n",
      "- **Product Inquiries**: \n",
      "  - Folks using the **Samsung Galaxy** are dealing with compatibility nightmares that seriously hurt their productivity and efficiency at work.\n",
      "\n",
      "### **Apple (iPhone)**\n",
      "- **Technical Issues**: \n",
      "  - iPhone users have reported a range of technical woes tied to hardware issues after updates. This can leave them feeling pretty frustrated.\n",
      "\n",
      "---\n",
      "\n",
      "As we can see, whether it’s tech troubles, billing messes, or product inquiries, these brands have some work to do to smooth out the bumps in their customer journeys. Let's hope they’re on it! 🎉\u001b[00m\n",
      "\n",
      "\n"
     ]
    }
   ],
   "source": [
    "crew = Crew(\n",
    "      agents=[analyst,writer],\n",
    "      tasks=[task1,task2],\n",
    "      verbose=True,  # You can set it to 1 or 2 to different logging levels\n",
    "  )\n",
    "\n",
    "result = crew.kickoff()"
   ]
  },
  {
   "cell_type": "markdown",
   "metadata": {},
   "source": [
    "# Key Observations:\n",
    "\n",
    "* The system automatically identifies brands from the dataset, ensuring accurate insights based on the available data.\n",
    "* Duplicate entries are eliminated, so if a brand, such as Amazon, appears multiple times, the insights are consolidated into a single entry.\n",
    "* From an initial dataset of 18 records, the final output consists of 12 unique insights.\n",
    "* The process concludes with a brief summary of the findings, offering a concise overview of the key trends."
   ]
  },
  {
   "cell_type": "markdown",
   "metadata": {},
   "source": [
    "# Conclusion\n",
    "As businesses continue to face increasing demands for quicker, more accurate support, adopting technologies like Agentic RAG can be a game-changer. It reduces the workload on human agents, allows teams to focus on more complex issues, and ensures that customers receive timely, relevant solutions. In a world where customer experience is key to business success, Agentic RAG’s blend of automation, efficiency, and intelligence is setting a new standard for customer service excellence.\n",
    "\n",
    "By embracing Agentic RAG, companies can not only streamline their operations but also stay ahead in providing superior customer support in an ever-evolving digital landscape."
   ]
  },
  {
   "cell_type": "code",
   "execution_count": 164,
   "metadata": {
    "id": "RVS_A4MC-_M4"
   },
   "outputs": [],
   "source": []
  },
  {
   "cell_type": "code",
   "execution_count": 164,
   "metadata": {
    "id": "ub3y3reV_npJ"
   },
   "outputs": [],
   "source": []
  },
  {
   "cell_type": "code",
   "execution_count": 164,
   "metadata": {
    "id": "vDdJ5kAm_nry"
   },
   "outputs": [],
   "source": []
  },
  {
   "cell_type": "code",
   "execution_count": 164,
   "metadata": {
    "id": "m9k5EAYK_nt2"
   },
   "outputs": [],
   "source": []
  },
  {
   "cell_type": "code",
   "execution_count": 164,
   "metadata": {
    "id": "Efy82kZm_nwF"
   },
   "outputs": [],
   "source": []
  },
  {
   "cell_type": "code",
   "execution_count": 164,
   "metadata": {
    "id": "MYGzaIVn_nyB"
   },
   "outputs": [],
   "source": []
  },
  {
   "cell_type": "code",
   "execution_count": 164,
   "metadata": {
    "id": "Ttar6pxN_nzx"
   },
   "outputs": [],
   "source": []
  },
  {
   "cell_type": "code",
   "execution_count": 164,
   "metadata": {
    "id": "hdn9Ooh3byVZ"
   },
   "outputs": [],
   "source": []
  },
  {
   "cell_type": "code",
   "execution_count": 164,
   "metadata": {
    "id": "p8FYhGgmbyXi"
   },
   "outputs": [],
   "source": []
  },
  {
   "cell_type": "code",
   "execution_count": 164,
   "metadata": {
    "id": "eGamBjAXbyZk"
   },
   "outputs": [],
   "source": []
  }
 ],
 "metadata": {
  "colab": {
   "provenance": []
  },
  "kernelspec": {
   "display_name": "Python 3",
   "name": "python3"
  },
  "language_info": {
   "name": "python"
  },
  "widgets": {
   "application/vnd.jupyter.widget-state+json": {
    "0b00d2d4326b4944bede8c46974ae561": {
     "model_module": "@jupyter-widgets/controls",
     "model_module_version": "1.5.0",
     "model_name": "HTMLModel",
     "state": {
      "_dom_classes": [],
      "_model_module": "@jupyter-widgets/controls",
      "_model_module_version": "1.5.0",
      "_model_name": "HTMLModel",
      "_view_count": null,
      "_view_module": "@jupyter-widgets/controls",
      "_view_module_version": "1.5.0",
      "_view_name": "HTMLView",
      "description": "",
      "description_tooltip": null,
      "layout": "IPY_MODEL_775d684bbddc4091b047a4d326b43350",
      "placeholder": "​",
      "style": "IPY_MODEL_6d063f066fbe4440ae336d4dbcd79746",
      "value": " 5/5 [00:05&lt;00:00,  1.19it/s]"
     }
    },
    "224b6d265c8d447e94ec2d0f8e9461ab": {
     "model_module": "@jupyter-widgets/controls",
     "model_module_version": "1.5.0",
     "model_name": "ProgressStyleModel",
     "state": {
      "_model_module": "@jupyter-widgets/controls",
      "_model_module_version": "1.5.0",
      "_model_name": "ProgressStyleModel",
      "_view_count": null,
      "_view_module": "@jupyter-widgets/base",
      "_view_module_version": "1.2.0",
      "_view_name": "StyleView",
      "bar_color": null,
      "description_width": ""
     }
    },
    "335c5bc888584cd48997536d38a48d67": {
     "model_module": "@jupyter-widgets/controls",
     "model_module_version": "1.5.0",
     "model_name": "HTMLModel",
     "state": {
      "_dom_classes": [],
      "_model_module": "@jupyter-widgets/controls",
      "_model_module_version": "1.5.0",
      "_model_name": "HTMLModel",
      "_view_count": null,
      "_view_module": "@jupyter-widgets/controls",
      "_view_module_version": "1.5.0",
      "_view_name": "HTMLView",
      "description": "",
      "description_tooltip": null,
      "layout": "IPY_MODEL_4973fd3886bf438aaf4242df8723dcb0",
      "placeholder": "​",
      "style": "IPY_MODEL_e7638975d023451e9d5e741a5ba3d6a5",
      "value": "Evaluating: 100%"
     }
    },
    "4020eaf702e64e11b9fd26a8aa3ef705": {
     "model_module": "@jupyter-widgets/base",
     "model_module_version": "1.2.0",
     "model_name": "LayoutModel",
     "state": {
      "_model_module": "@jupyter-widgets/base",
      "_model_module_version": "1.2.0",
      "_model_name": "LayoutModel",
      "_view_count": null,
      "_view_module": "@jupyter-widgets/base",
      "_view_module_version": "1.2.0",
      "_view_name": "LayoutView",
      "align_content": null,
      "align_items": null,
      "align_self": null,
      "border": null,
      "bottom": null,
      "display": null,
      "flex": null,
      "flex_flow": null,
      "grid_area": null,
      "grid_auto_columns": null,
      "grid_auto_flow": null,
      "grid_auto_rows": null,
      "grid_column": null,
      "grid_gap": null,
      "grid_row": null,
      "grid_template_areas": null,
      "grid_template_columns": null,
      "grid_template_rows": null,
      "height": null,
      "justify_content": null,
      "justify_items": null,
      "left": null,
      "margin": null,
      "max_height": null,
      "max_width": null,
      "min_height": null,
      "min_width": null,
      "object_fit": null,
      "object_position": null,
      "order": null,
      "overflow": null,
      "overflow_x": null,
      "overflow_y": null,
      "padding": null,
      "right": null,
      "top": null,
      "visibility": null,
      "width": null
     }
    },
    "4973fd3886bf438aaf4242df8723dcb0": {
     "model_module": "@jupyter-widgets/base",
     "model_module_version": "1.2.0",
     "model_name": "LayoutModel",
     "state": {
      "_model_module": "@jupyter-widgets/base",
      "_model_module_version": "1.2.0",
      "_model_name": "LayoutModel",
      "_view_count": null,
      "_view_module": "@jupyter-widgets/base",
      "_view_module_version": "1.2.0",
      "_view_name": "LayoutView",
      "align_content": null,
      "align_items": null,
      "align_self": null,
      "border": null,
      "bottom": null,
      "display": null,
      "flex": null,
      "flex_flow": null,
      "grid_area": null,
      "grid_auto_columns": null,
      "grid_auto_flow": null,
      "grid_auto_rows": null,
      "grid_column": null,
      "grid_gap": null,
      "grid_row": null,
      "grid_template_areas": null,
      "grid_template_columns": null,
      "grid_template_rows": null,
      "height": null,
      "justify_content": null,
      "justify_items": null,
      "left": null,
      "margin": null,
      "max_height": null,
      "max_width": null,
      "min_height": null,
      "min_width": null,
      "object_fit": null,
      "object_position": null,
      "order": null,
      "overflow": null,
      "overflow_x": null,
      "overflow_y": null,
      "padding": null,
      "right": null,
      "top": null,
      "visibility": null,
      "width": null
     }
    },
    "5fe3fe8f951844e1a3edd7720e0a1dd0": {
     "model_module": "@jupyter-widgets/controls",
     "model_module_version": "1.5.0",
     "model_name": "HBoxModel",
     "state": {
      "_dom_classes": [],
      "_model_module": "@jupyter-widgets/controls",
      "_model_module_version": "1.5.0",
      "_model_name": "HBoxModel",
      "_view_count": null,
      "_view_module": "@jupyter-widgets/controls",
      "_view_module_version": "1.5.0",
      "_view_name": "HBoxView",
      "box_style": "",
      "children": [
       "IPY_MODEL_fb8eee445aa142899655c7adadfe421b",
       "IPY_MODEL_f6881a867fe0475ea2fa0b9fa1a3555f",
       "IPY_MODEL_b0be78e162944e529a5a6bcad2ec07d5"
      ],
      "layout": "IPY_MODEL_4020eaf702e64e11b9fd26a8aa3ef705"
     }
    },
    "68a02378db33404fab0de72708ca524e": {
     "model_module": "@jupyter-widgets/base",
     "model_module_version": "1.2.0",
     "model_name": "LayoutModel",
     "state": {
      "_model_module": "@jupyter-widgets/base",
      "_model_module_version": "1.2.0",
      "_model_name": "LayoutModel",
      "_view_count": null,
      "_view_module": "@jupyter-widgets/base",
      "_view_module_version": "1.2.0",
      "_view_name": "LayoutView",
      "align_content": null,
      "align_items": null,
      "align_self": null,
      "border": null,
      "bottom": null,
      "display": null,
      "flex": null,
      "flex_flow": null,
      "grid_area": null,
      "grid_auto_columns": null,
      "grid_auto_flow": null,
      "grid_auto_rows": null,
      "grid_column": null,
      "grid_gap": null,
      "grid_row": null,
      "grid_template_areas": null,
      "grid_template_columns": null,
      "grid_template_rows": null,
      "height": null,
      "justify_content": null,
      "justify_items": null,
      "left": null,
      "margin": null,
      "max_height": null,
      "max_width": null,
      "min_height": null,
      "min_width": null,
      "object_fit": null,
      "object_position": null,
      "order": null,
      "overflow": null,
      "overflow_x": null,
      "overflow_y": null,
      "padding": null,
      "right": null,
      "top": null,
      "visibility": null,
      "width": null
     }
    },
    "68b0c9bcccf0452b80c8c09d7463bbf9": {
     "model_module": "@jupyter-widgets/controls",
     "model_module_version": "1.5.0",
     "model_name": "HBoxModel",
     "state": {
      "_dom_classes": [],
      "_model_module": "@jupyter-widgets/controls",
      "_model_module_version": "1.5.0",
      "_model_name": "HBoxModel",
      "_view_count": null,
      "_view_module": "@jupyter-widgets/controls",
      "_view_module_version": "1.5.0",
      "_view_name": "HBoxView",
      "box_style": "",
      "children": [
       "IPY_MODEL_335c5bc888584cd48997536d38a48d67",
       "IPY_MODEL_d5c4dbccdb4e45ada759ceead7f4b3d2",
       "IPY_MODEL_0b00d2d4326b4944bede8c46974ae561"
      ],
      "layout": "IPY_MODEL_9986ea6e473a42b399bf6de92e6731f6"
     }
    },
    "68ef6aeb68f74ffaad4c7d4e5d27cc0e": {
     "model_module": "@jupyter-widgets/base",
     "model_module_version": "1.2.0",
     "model_name": "LayoutModel",
     "state": {
      "_model_module": "@jupyter-widgets/base",
      "_model_module_version": "1.2.0",
      "_model_name": "LayoutModel",
      "_view_count": null,
      "_view_module": "@jupyter-widgets/base",
      "_view_module_version": "1.2.0",
      "_view_name": "LayoutView",
      "align_content": null,
      "align_items": null,
      "align_self": null,
      "border": null,
      "bottom": null,
      "display": null,
      "flex": null,
      "flex_flow": null,
      "grid_area": null,
      "grid_auto_columns": null,
      "grid_auto_flow": null,
      "grid_auto_rows": null,
      "grid_column": null,
      "grid_gap": null,
      "grid_row": null,
      "grid_template_areas": null,
      "grid_template_columns": null,
      "grid_template_rows": null,
      "height": null,
      "justify_content": null,
      "justify_items": null,
      "left": null,
      "margin": null,
      "max_height": null,
      "max_width": null,
      "min_height": null,
      "min_width": null,
      "object_fit": null,
      "object_position": null,
      "order": null,
      "overflow": null,
      "overflow_x": null,
      "overflow_y": null,
      "padding": null,
      "right": null,
      "top": null,
      "visibility": null,
      "width": null
     }
    },
    "6d063f066fbe4440ae336d4dbcd79746": {
     "model_module": "@jupyter-widgets/controls",
     "model_module_version": "1.5.0",
     "model_name": "DescriptionStyleModel",
     "state": {
      "_model_module": "@jupyter-widgets/controls",
      "_model_module_version": "1.5.0",
      "_model_name": "DescriptionStyleModel",
      "_view_count": null,
      "_view_module": "@jupyter-widgets/base",
      "_view_module_version": "1.2.0",
      "_view_name": "StyleView",
      "description_width": ""
     }
    },
    "775d684bbddc4091b047a4d326b43350": {
     "model_module": "@jupyter-widgets/base",
     "model_module_version": "1.2.0",
     "model_name": "LayoutModel",
     "state": {
      "_model_module": "@jupyter-widgets/base",
      "_model_module_version": "1.2.0",
      "_model_name": "LayoutModel",
      "_view_count": null,
      "_view_module": "@jupyter-widgets/base",
      "_view_module_version": "1.2.0",
      "_view_name": "LayoutView",
      "align_content": null,
      "align_items": null,
      "align_self": null,
      "border": null,
      "bottom": null,
      "display": null,
      "flex": null,
      "flex_flow": null,
      "grid_area": null,
      "grid_auto_columns": null,
      "grid_auto_flow": null,
      "grid_auto_rows": null,
      "grid_column": null,
      "grid_gap": null,
      "grid_row": null,
      "grid_template_areas": null,
      "grid_template_columns": null,
      "grid_template_rows": null,
      "height": null,
      "justify_content": null,
      "justify_items": null,
      "left": null,
      "margin": null,
      "max_height": null,
      "max_width": null,
      "min_height": null,
      "min_width": null,
      "object_fit": null,
      "object_position": null,
      "order": null,
      "overflow": null,
      "overflow_x": null,
      "overflow_y": null,
      "padding": null,
      "right": null,
      "top": null,
      "visibility": null,
      "width": null
     }
    },
    "8437d18c56414d92990b7983d96e89dc": {
     "model_module": "@jupyter-widgets/base",
     "model_module_version": "1.2.0",
     "model_name": "LayoutModel",
     "state": {
      "_model_module": "@jupyter-widgets/base",
      "_model_module_version": "1.2.0",
      "_model_name": "LayoutModel",
      "_view_count": null,
      "_view_module": "@jupyter-widgets/base",
      "_view_module_version": "1.2.0",
      "_view_name": "LayoutView",
      "align_content": null,
      "align_items": null,
      "align_self": null,
      "border": null,
      "bottom": null,
      "display": null,
      "flex": null,
      "flex_flow": null,
      "grid_area": null,
      "grid_auto_columns": null,
      "grid_auto_flow": null,
      "grid_auto_rows": null,
      "grid_column": null,
      "grid_gap": null,
      "grid_row": null,
      "grid_template_areas": null,
      "grid_template_columns": null,
      "grid_template_rows": null,
      "height": null,
      "justify_content": null,
      "justify_items": null,
      "left": null,
      "margin": null,
      "max_height": null,
      "max_width": null,
      "min_height": null,
      "min_width": null,
      "object_fit": null,
      "object_position": null,
      "order": null,
      "overflow": null,
      "overflow_x": null,
      "overflow_y": null,
      "padding": null,
      "right": null,
      "top": null,
      "visibility": null,
      "width": null
     }
    },
    "84afe573d41c44a1a8dad4d172c92f2d": {
     "model_module": "@jupyter-widgets/base",
     "model_module_version": "1.2.0",
     "model_name": "LayoutModel",
     "state": {
      "_model_module": "@jupyter-widgets/base",
      "_model_module_version": "1.2.0",
      "_model_name": "LayoutModel",
      "_view_count": null,
      "_view_module": "@jupyter-widgets/base",
      "_view_module_version": "1.2.0",
      "_view_name": "LayoutView",
      "align_content": null,
      "align_items": null,
      "align_self": null,
      "border": null,
      "bottom": null,
      "display": null,
      "flex": null,
      "flex_flow": null,
      "grid_area": null,
      "grid_auto_columns": null,
      "grid_auto_flow": null,
      "grid_auto_rows": null,
      "grid_column": null,
      "grid_gap": null,
      "grid_row": null,
      "grid_template_areas": null,
      "grid_template_columns": null,
      "grid_template_rows": null,
      "height": null,
      "justify_content": null,
      "justify_items": null,
      "left": null,
      "margin": null,
      "max_height": null,
      "max_width": null,
      "min_height": null,
      "min_width": null,
      "object_fit": null,
      "object_position": null,
      "order": null,
      "overflow": null,
      "overflow_x": null,
      "overflow_y": null,
      "padding": null,
      "right": null,
      "top": null,
      "visibility": null,
      "width": null
     }
    },
    "88091ea2a535457c96e2e1f77851ca5b": {
     "model_module": "@jupyter-widgets/controls",
     "model_module_version": "1.5.0",
     "model_name": "ProgressStyleModel",
     "state": {
      "_model_module": "@jupyter-widgets/controls",
      "_model_module_version": "1.5.0",
      "_model_name": "ProgressStyleModel",
      "_view_count": null,
      "_view_module": "@jupyter-widgets/base",
      "_view_module_version": "1.2.0",
      "_view_name": "StyleView",
      "bar_color": null,
      "description_width": ""
     }
    },
    "9986ea6e473a42b399bf6de92e6731f6": {
     "model_module": "@jupyter-widgets/base",
     "model_module_version": "1.2.0",
     "model_name": "LayoutModel",
     "state": {
      "_model_module": "@jupyter-widgets/base",
      "_model_module_version": "1.2.0",
      "_model_name": "LayoutModel",
      "_view_count": null,
      "_view_module": "@jupyter-widgets/base",
      "_view_module_version": "1.2.0",
      "_view_name": "LayoutView",
      "align_content": null,
      "align_items": null,
      "align_self": null,
      "border": null,
      "bottom": null,
      "display": null,
      "flex": null,
      "flex_flow": null,
      "grid_area": null,
      "grid_auto_columns": null,
      "grid_auto_flow": null,
      "grid_auto_rows": null,
      "grid_column": null,
      "grid_gap": null,
      "grid_row": null,
      "grid_template_areas": null,
      "grid_template_columns": null,
      "grid_template_rows": null,
      "height": null,
      "justify_content": null,
      "justify_items": null,
      "left": null,
      "margin": null,
      "max_height": null,
      "max_width": null,
      "min_height": null,
      "min_width": null,
      "object_fit": null,
      "object_position": null,
      "order": null,
      "overflow": null,
      "overflow_x": null,
      "overflow_y": null,
      "padding": null,
      "right": null,
      "top": null,
      "visibility": null,
      "width": null
     }
    },
    "b0be78e162944e529a5a6bcad2ec07d5": {
     "model_module": "@jupyter-widgets/controls",
     "model_module_version": "1.5.0",
     "model_name": "HTMLModel",
     "state": {
      "_dom_classes": [],
      "_model_module": "@jupyter-widgets/controls",
      "_model_module_version": "1.5.0",
      "_model_name": "HTMLModel",
      "_view_count": null,
      "_view_module": "@jupyter-widgets/controls",
      "_view_module_version": "1.5.0",
      "_view_name": "HTMLView",
      "description": "",
      "description_tooltip": null,
      "layout": "IPY_MODEL_8437d18c56414d92990b7983d96e89dc",
      "placeholder": "​",
      "style": "IPY_MODEL_d4ace0641567453cab53962d60580e63",
      "value": " 12/12 [00:07&lt;00:00,  1.69it/s]"
     }
    },
    "d0ddfa56dcf84e3cb21ef0a32216944b": {
     "model_module": "@jupyter-widgets/controls",
     "model_module_version": "1.5.0",
     "model_name": "DescriptionStyleModel",
     "state": {
      "_model_module": "@jupyter-widgets/controls",
      "_model_module_version": "1.5.0",
      "_model_name": "DescriptionStyleModel",
      "_view_count": null,
      "_view_module": "@jupyter-widgets/base",
      "_view_module_version": "1.2.0",
      "_view_name": "StyleView",
      "description_width": ""
     }
    },
    "d4ace0641567453cab53962d60580e63": {
     "model_module": "@jupyter-widgets/controls",
     "model_module_version": "1.5.0",
     "model_name": "DescriptionStyleModel",
     "state": {
      "_model_module": "@jupyter-widgets/controls",
      "_model_module_version": "1.5.0",
      "_model_name": "DescriptionStyleModel",
      "_view_count": null,
      "_view_module": "@jupyter-widgets/base",
      "_view_module_version": "1.2.0",
      "_view_name": "StyleView",
      "description_width": ""
     }
    },
    "d5c4dbccdb4e45ada759ceead7f4b3d2": {
     "model_module": "@jupyter-widgets/controls",
     "model_module_version": "1.5.0",
     "model_name": "FloatProgressModel",
     "state": {
      "_dom_classes": [],
      "_model_module": "@jupyter-widgets/controls",
      "_model_module_version": "1.5.0",
      "_model_name": "FloatProgressModel",
      "_view_count": null,
      "_view_module": "@jupyter-widgets/controls",
      "_view_module_version": "1.5.0",
      "_view_name": "ProgressView",
      "bar_style": "success",
      "description": "",
      "description_tooltip": null,
      "layout": "IPY_MODEL_68a02378db33404fab0de72708ca524e",
      "max": 5,
      "min": 0,
      "orientation": "horizontal",
      "style": "IPY_MODEL_88091ea2a535457c96e2e1f77851ca5b",
      "value": 5
     }
    },
    "e7638975d023451e9d5e741a5ba3d6a5": {
     "model_module": "@jupyter-widgets/controls",
     "model_module_version": "1.5.0",
     "model_name": "DescriptionStyleModel",
     "state": {
      "_model_module": "@jupyter-widgets/controls",
      "_model_module_version": "1.5.0",
      "_model_name": "DescriptionStyleModel",
      "_view_count": null,
      "_view_module": "@jupyter-widgets/base",
      "_view_module_version": "1.2.0",
      "_view_name": "StyleView",
      "description_width": ""
     }
    },
    "f6881a867fe0475ea2fa0b9fa1a3555f": {
     "model_module": "@jupyter-widgets/controls",
     "model_module_version": "1.5.0",
     "model_name": "FloatProgressModel",
     "state": {
      "_dom_classes": [],
      "_model_module": "@jupyter-widgets/controls",
      "_model_module_version": "1.5.0",
      "_model_name": "FloatProgressModel",
      "_view_count": null,
      "_view_module": "@jupyter-widgets/controls",
      "_view_module_version": "1.5.0",
      "_view_name": "ProgressView",
      "bar_style": "success",
      "description": "",
      "description_tooltip": null,
      "layout": "IPY_MODEL_84afe573d41c44a1a8dad4d172c92f2d",
      "max": 12,
      "min": 0,
      "orientation": "horizontal",
      "style": "IPY_MODEL_224b6d265c8d447e94ec2d0f8e9461ab",
      "value": 12
     }
    },
    "fb8eee445aa142899655c7adadfe421b": {
     "model_module": "@jupyter-widgets/controls",
     "model_module_version": "1.5.0",
     "model_name": "HTMLModel",
     "state": {
      "_dom_classes": [],
      "_model_module": "@jupyter-widgets/controls",
      "_model_module_version": "1.5.0",
      "_model_name": "HTMLModel",
      "_view_count": null,
      "_view_module": "@jupyter-widgets/controls",
      "_view_module_version": "1.5.0",
      "_view_name": "HTMLView",
      "description": "",
      "description_tooltip": null,
      "layout": "IPY_MODEL_68ef6aeb68f74ffaad4c7d4e5d27cc0e",
      "placeholder": "​",
      "style": "IPY_MODEL_d0ddfa56dcf84e3cb21ef0a32216944b",
      "value": "Evaluating: 100%"
     }
    }
   }
  }
 },
 "nbformat": 4,
 "nbformat_minor": 0
}
